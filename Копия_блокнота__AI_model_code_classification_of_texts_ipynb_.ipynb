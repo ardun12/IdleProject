{
  "nbformat": 4,
  "nbformat_minor": 0,
  "metadata": {
    "colab": {
      "provenance": []
    },
    "kernelspec": {
      "name": "python3",
      "display_name": "Python 3"
    },
    "language_info": {
      "name": "python"
    }
  },
  "cells": [
    {
      "cell_type": "markdown",
      "source": [
        "# **Загружаем библиотеки**"
      ],
      "metadata": {
        "id": "uYXyEjW2EFO1"
      }
    },
    {
      "cell_type": "code",
      "execution_count": 180,
      "metadata": {
        "id": "GkAOyu4wLtxC"
      },
      "outputs": [],
      "source": [
        "import pandas as pd\n",
        "import matplotlib.pyplot as plt\n",
        "import tensorflow as tf\n",
        "import numpy as np\n",
        "from tensorflow.keras import utils\n",
        "from tensorflow.keras.models import Sequential, Model\n",
        "from tensorflow.keras.layers import Dense, GRU, GlobalAveragePooling1D, Flatten, Activation, Dropout, BatchNormalization, Input, concatenate, Embedding, LSTM, Conv1D, GlobalMaxPooling1D\n",
        "from tensorflow.keras.optimizers import Adam, Adadelta\n",
        "from tensorflow.keras.metrics import Precision\n",
        "from sklearn.model_selection import train_test_split \n",
        "from keras.preprocessing.text import Tokenizer, text_to_word_sequence,tokenizer_from_json\n",
        "from tensorflow.keras.preprocessing.sequence import pad_sequences\n",
        "\n",
        "from sklearn.preprocessing import StandardScaler, LabelEncoder\n",
        "import sklearn.metrics\n",
        "\n",
        "from sklearn.preprocessing import StandardScaler\n",
        "from sklearn.cluster import KMeans\n",
        "import time\n",
        "import re"
      ]
    },
    {
      "cell_type": "code",
      "source": [
        "import nltk"
      ],
      "metadata": {
        "id": "Rd9xM2wpGNMQ"
      },
      "execution_count": 210,
      "outputs": []
    },
    {
      "cell_type": "code",
      "source": [
        "nltk.download('stopwords')\n",
        "nltk.download('punkt')\n",
        "nltk.download('wordnet')"
      ],
      "metadata": {
        "colab": {
          "base_uri": "https://localhost:8080/"
        },
        "id": "B3kedTDdGP7g",
        "outputId": "63f9c106-5c61-4e50-f9cc-f4d2560f4b69"
      },
      "execution_count": 211,
      "outputs": [
        {
          "output_type": "stream",
          "name": "stderr",
          "text": [
            "[nltk_data] Downloading package stopwords to /root/nltk_data...\n",
            "[nltk_data]   Unzipping corpora/stopwords.zip.\n",
            "[nltk_data] Downloading package punkt to /root/nltk_data...\n",
            "[nltk_data]   Unzipping tokenizers/punkt.zip.\n",
            "[nltk_data] Downloading package wordnet to /root/nltk_data...\n"
          ]
        },
        {
          "output_type": "execute_result",
          "data": {
            "text/plain": [
              "True"
            ]
          },
          "metadata": {},
          "execution_count": 211
        }
      ]
    },
    {
      "cell_type": "code",
      "source": [
        "pip install openpyxl"
      ],
      "metadata": {
        "colab": {
          "base_uri": "https://localhost:8080/"
        },
        "id": "z9sEGeGJ6t92",
        "outputId": "61a825ca-2d28-42ba-9265-99669342d0fc"
      },
      "execution_count": 181,
      "outputs": [
        {
          "output_type": "stream",
          "name": "stdout",
          "text": [
            "Looking in indexes: https://pypi.org/simple, https://us-python.pkg.dev/colab-wheels/public/simple/\n",
            "Requirement already satisfied: openpyxl in /usr/local/lib/python3.10/dist-packages (3.0.10)\n",
            "Requirement already satisfied: et-xmlfile in /usr/local/lib/python3.10/dist-packages (from openpyxl) (1.1.0)\n"
          ]
        }
      ]
    },
    {
      "cell_type": "code",
      "source": [
        "pip install xlsxwriter"
      ],
      "metadata": {
        "colab": {
          "base_uri": "https://localhost:8080/"
        },
        "id": "Fh1jPGR96vIv",
        "outputId": "74c82582-29f6-486b-90bd-0f1a33416b6f"
      },
      "execution_count": 182,
      "outputs": [
        {
          "output_type": "stream",
          "name": "stdout",
          "text": [
            "Looking in indexes: https://pypi.org/simple, https://us-python.pkg.dev/colab-wheels/public/simple/\n",
            "Requirement already satisfied: xlsxwriter in /usr/local/lib/python3.10/dist-packages (3.1.2)\n"
          ]
        }
      ]
    },
    {
      "cell_type": "code",
      "source": [
        "from google.colab import drive"
      ],
      "metadata": {
        "id": "R_aBDaKRgjoA"
      },
      "execution_count": 183,
      "outputs": []
    },
    {
      "cell_type": "code",
      "source": [
        "drive.mount(\"/content/drive\")"
      ],
      "metadata": {
        "colab": {
          "base_uri": "https://localhost:8080/"
        },
        "id": "23SciKEJL5Rq",
        "outputId": "b7d6fe13-6bf3-4024-89bb-d170e15fb480"
      },
      "execution_count": 184,
      "outputs": [
        {
          "output_type": "stream",
          "name": "stdout",
          "text": [
            "Drive already mounted at /content/drive; to attempt to forcibly remount, call drive.mount(\"/content/drive\", force_remount=True).\n"
          ]
        }
      ]
    },
    {
      "cell_type": "code",
      "source": [
        "df = pd.read_excel(\"/content/drive/MyDrive/Colab Notebooks/хакатон билеты/Test_2_3.xlsx\")"
      ],
      "metadata": {
        "id": "q2IP78LCMP4U"
      },
      "execution_count": 185,
      "outputs": []
    },
    {
      "cell_type": "code",
      "source": [
        "df"
      ],
      "metadata": {
        "colab": {
          "base_uri": "https://localhost:8080/",
          "height": 1000
        },
        "id": "VMBM4QdLZ0OY",
        "outputId": "56be5e49-bb29-47c0-da57-6e4c4515d860"
      },
      "execution_count": 186,
      "outputs": [
        {
          "output_type": "execute_result",
          "data": {
            "text/plain": [
              "                                                  text  \\\n",
              "0    Хотите увидеть все и сразу? Пожалуйста! Пригот...   \n",
              "1    Культурный центр «Хитровка» — сердце московско...   \n",
              "2    Откройте для себя удивительное место Москвы от...   \n",
              "3    Где Василий Поленов писал свою знаменитую карт...   \n",
              "4    С 1904 года Александровский дворец в Царском С...   \n",
              "..                                                 ...   \n",
              "453  Почему Большая Покровская всегда была главной ...   \n",
              "454  Прогуляйтесь по таинственным местам Сочи и пог...   \n",
              "455  Отправьтесь в один из крупнейших собачьих пито...   \n",
              "456  Приехать в Москву и не побывать на Красной пло...   \n",
              "457  Познакомьтесь с древним Звенигородом. Вы прогу...   \n",
              "\n",
              "                               one                 two    three four  \\\n",
              "0                            Музеи                 NaN      NaN  NaN   \n",
              "1                 Местная_культура    Местная_культура  История  NaN   \n",
              "2                          История  Искусство_и_ театр      NaN  NaN   \n",
              "3    Увидеть_достопримечательности                 NaN      NaN  NaN   \n",
              "4                              NaN                 NaN      NaN  NaN   \n",
              "..                             ...                 ...      ...  ...   \n",
              "453                        История  Искусство_и_ театр      NaN  NaN   \n",
              "454                           Пляж                 NaN      NaN  NaN   \n",
              "455                        История                 NaN      NaN  NaN   \n",
              "456                        История                 NaN      NaN  NaN   \n",
              "457                        История                 NaN      NaN  NaN   \n",
              "\n",
              "                  five  six  \n",
              "0    Исследовательское  NaN  \n",
              "1    Исследовательское  NaN  \n",
              "2    Исследовательское  NaN  \n",
              "3    Исследовательское  NaN  \n",
              "4    Исследовательское  NaN  \n",
              "..                 ...  ...  \n",
              "453  Исследовательское  NaN  \n",
              "454  Исследовательское  NaN  \n",
              "455  Исследовательское  NaN  \n",
              "456  Исследовательское  NaN  \n",
              "457  Исследовательское  NaN  \n",
              "\n",
              "[458 rows x 7 columns]"
            ],
            "text/html": [
              "\n",
              "  <div id=\"df-b54fd7e9-6823-4d16-ba08-49bda76af309\">\n",
              "    <div class=\"colab-df-container\">\n",
              "      <div>\n",
              "<style scoped>\n",
              "    .dataframe tbody tr th:only-of-type {\n",
              "        vertical-align: middle;\n",
              "    }\n",
              "\n",
              "    .dataframe tbody tr th {\n",
              "        vertical-align: top;\n",
              "    }\n",
              "\n",
              "    .dataframe thead th {\n",
              "        text-align: right;\n",
              "    }\n",
              "</style>\n",
              "<table border=\"1\" class=\"dataframe\">\n",
              "  <thead>\n",
              "    <tr style=\"text-align: right;\">\n",
              "      <th></th>\n",
              "      <th>text</th>\n",
              "      <th>one</th>\n",
              "      <th>two</th>\n",
              "      <th>three</th>\n",
              "      <th>four</th>\n",
              "      <th>five</th>\n",
              "      <th>six</th>\n",
              "    </tr>\n",
              "  </thead>\n",
              "  <tbody>\n",
              "    <tr>\n",
              "      <th>0</th>\n",
              "      <td>Хотите увидеть все и сразу? Пожалуйста! Пригот...</td>\n",
              "      <td>Музеи</td>\n",
              "      <td>NaN</td>\n",
              "      <td>NaN</td>\n",
              "      <td>NaN</td>\n",
              "      <td>Исследовательское</td>\n",
              "      <td>NaN</td>\n",
              "    </tr>\n",
              "    <tr>\n",
              "      <th>1</th>\n",
              "      <td>Культурный центр «Хитровка» — сердце московско...</td>\n",
              "      <td>Местная_культура</td>\n",
              "      <td>Местная_культура</td>\n",
              "      <td>История</td>\n",
              "      <td>NaN</td>\n",
              "      <td>Исследовательское</td>\n",
              "      <td>NaN</td>\n",
              "    </tr>\n",
              "    <tr>\n",
              "      <th>2</th>\n",
              "      <td>Откройте для себя удивительное место Москвы от...</td>\n",
              "      <td>История</td>\n",
              "      <td>Искусство_и_ театр</td>\n",
              "      <td>NaN</td>\n",
              "      <td>NaN</td>\n",
              "      <td>Исследовательское</td>\n",
              "      <td>NaN</td>\n",
              "    </tr>\n",
              "    <tr>\n",
              "      <th>3</th>\n",
              "      <td>Где Василий Поленов писал свою знаменитую карт...</td>\n",
              "      <td>Увидеть_достопримечательности</td>\n",
              "      <td>NaN</td>\n",
              "      <td>NaN</td>\n",
              "      <td>NaN</td>\n",
              "      <td>Исследовательское</td>\n",
              "      <td>NaN</td>\n",
              "    </tr>\n",
              "    <tr>\n",
              "      <th>4</th>\n",
              "      <td>С 1904 года Александровский дворец в Царском С...</td>\n",
              "      <td>NaN</td>\n",
              "      <td>NaN</td>\n",
              "      <td>NaN</td>\n",
              "      <td>NaN</td>\n",
              "      <td>Исследовательское</td>\n",
              "      <td>NaN</td>\n",
              "    </tr>\n",
              "    <tr>\n",
              "      <th>...</th>\n",
              "      <td>...</td>\n",
              "      <td>...</td>\n",
              "      <td>...</td>\n",
              "      <td>...</td>\n",
              "      <td>...</td>\n",
              "      <td>...</td>\n",
              "      <td>...</td>\n",
              "    </tr>\n",
              "    <tr>\n",
              "      <th>453</th>\n",
              "      <td>Почему Большая Покровская всегда была главной ...</td>\n",
              "      <td>История</td>\n",
              "      <td>Искусство_и_ театр</td>\n",
              "      <td>NaN</td>\n",
              "      <td>NaN</td>\n",
              "      <td>Исследовательское</td>\n",
              "      <td>NaN</td>\n",
              "    </tr>\n",
              "    <tr>\n",
              "      <th>454</th>\n",
              "      <td>Прогуляйтесь по таинственным местам Сочи и пог...</td>\n",
              "      <td>Пляж</td>\n",
              "      <td>NaN</td>\n",
              "      <td>NaN</td>\n",
              "      <td>NaN</td>\n",
              "      <td>Исследовательское</td>\n",
              "      <td>NaN</td>\n",
              "    </tr>\n",
              "    <tr>\n",
              "      <th>455</th>\n",
              "      <td>Отправьтесь в один из крупнейших собачьих пито...</td>\n",
              "      <td>История</td>\n",
              "      <td>NaN</td>\n",
              "      <td>NaN</td>\n",
              "      <td>NaN</td>\n",
              "      <td>Исследовательское</td>\n",
              "      <td>NaN</td>\n",
              "    </tr>\n",
              "    <tr>\n",
              "      <th>456</th>\n",
              "      <td>Приехать в Москву и не побывать на Красной пло...</td>\n",
              "      <td>История</td>\n",
              "      <td>NaN</td>\n",
              "      <td>NaN</td>\n",
              "      <td>NaN</td>\n",
              "      <td>Исследовательское</td>\n",
              "      <td>NaN</td>\n",
              "    </tr>\n",
              "    <tr>\n",
              "      <th>457</th>\n",
              "      <td>Познакомьтесь с древним Звенигородом. Вы прогу...</td>\n",
              "      <td>История</td>\n",
              "      <td>NaN</td>\n",
              "      <td>NaN</td>\n",
              "      <td>NaN</td>\n",
              "      <td>Исследовательское</td>\n",
              "      <td>NaN</td>\n",
              "    </tr>\n",
              "  </tbody>\n",
              "</table>\n",
              "<p>458 rows × 7 columns</p>\n",
              "</div>\n",
              "      <button class=\"colab-df-convert\" onclick=\"convertToInteractive('df-b54fd7e9-6823-4d16-ba08-49bda76af309')\"\n",
              "              title=\"Convert this dataframe to an interactive table.\"\n",
              "              style=\"display:none;\">\n",
              "        \n",
              "  <svg xmlns=\"http://www.w3.org/2000/svg\" height=\"24px\"viewBox=\"0 0 24 24\"\n",
              "       width=\"24px\">\n",
              "    <path d=\"M0 0h24v24H0V0z\" fill=\"none\"/>\n",
              "    <path d=\"M18.56 5.44l.94 2.06.94-2.06 2.06-.94-2.06-.94-.94-2.06-.94 2.06-2.06.94zm-11 1L8.5 8.5l.94-2.06 2.06-.94-2.06-.94L8.5 2.5l-.94 2.06-2.06.94zm10 10l.94 2.06.94-2.06 2.06-.94-2.06-.94-.94-2.06-.94 2.06-2.06.94z\"/><path d=\"M17.41 7.96l-1.37-1.37c-.4-.4-.92-.59-1.43-.59-.52 0-1.04.2-1.43.59L10.3 9.45l-7.72 7.72c-.78.78-.78 2.05 0 2.83L4 21.41c.39.39.9.59 1.41.59.51 0 1.02-.2 1.41-.59l7.78-7.78 2.81-2.81c.8-.78.8-2.07 0-2.86zM5.41 20L4 18.59l7.72-7.72 1.47 1.35L5.41 20z\"/>\n",
              "  </svg>\n",
              "      </button>\n",
              "      \n",
              "  <style>\n",
              "    .colab-df-container {\n",
              "      display:flex;\n",
              "      flex-wrap:wrap;\n",
              "      gap: 12px;\n",
              "    }\n",
              "\n",
              "    .colab-df-convert {\n",
              "      background-color: #E8F0FE;\n",
              "      border: none;\n",
              "      border-radius: 50%;\n",
              "      cursor: pointer;\n",
              "      display: none;\n",
              "      fill: #1967D2;\n",
              "      height: 32px;\n",
              "      padding: 0 0 0 0;\n",
              "      width: 32px;\n",
              "    }\n",
              "\n",
              "    .colab-df-convert:hover {\n",
              "      background-color: #E2EBFA;\n",
              "      box-shadow: 0px 1px 2px rgba(60, 64, 67, 0.3), 0px 1px 3px 1px rgba(60, 64, 67, 0.15);\n",
              "      fill: #174EA6;\n",
              "    }\n",
              "\n",
              "    [theme=dark] .colab-df-convert {\n",
              "      background-color: #3B4455;\n",
              "      fill: #D2E3FC;\n",
              "    }\n",
              "\n",
              "    [theme=dark] .colab-df-convert:hover {\n",
              "      background-color: #434B5C;\n",
              "      box-shadow: 0px 1px 3px 1px rgba(0, 0, 0, 0.15);\n",
              "      filter: drop-shadow(0px 1px 2px rgba(0, 0, 0, 0.3));\n",
              "      fill: #FFFFFF;\n",
              "    }\n",
              "  </style>\n",
              "\n",
              "      <script>\n",
              "        const buttonEl =\n",
              "          document.querySelector('#df-b54fd7e9-6823-4d16-ba08-49bda76af309 button.colab-df-convert');\n",
              "        buttonEl.style.display =\n",
              "          google.colab.kernel.accessAllowed ? 'block' : 'none';\n",
              "\n",
              "        async function convertToInteractive(key) {\n",
              "          const element = document.querySelector('#df-b54fd7e9-6823-4d16-ba08-49bda76af309');\n",
              "          const dataTable =\n",
              "            await google.colab.kernel.invokeFunction('convertToInteractive',\n",
              "                                                     [key], {});\n",
              "          if (!dataTable) return;\n",
              "\n",
              "          const docLinkHtml = 'Like what you see? Visit the ' +\n",
              "            '<a target=\"_blank\" href=https://colab.research.google.com/notebooks/data_table.ipynb>data table notebook</a>'\n",
              "            + ' to learn more about interactive tables.';\n",
              "          element.innerHTML = '';\n",
              "          dataTable['output_type'] = 'display_data';\n",
              "          await google.colab.output.renderOutput(dataTable, element);\n",
              "          const docLink = document.createElement('div');\n",
              "          docLink.innerHTML = docLinkHtml;\n",
              "          element.appendChild(docLink);\n",
              "        }\n",
              "      </script>\n",
              "    </div>\n",
              "  </div>\n",
              "  "
            ]
          },
          "metadata": {},
          "execution_count": 186
        }
      ]
    },
    {
      "cell_type": "code",
      "source": [
        "df['text']"
      ],
      "metadata": {
        "colab": {
          "base_uri": "https://localhost:8080/"
        },
        "id": "SlcORw_dxdP7",
        "outputId": "74a16b80-72a4-4699-e921-7a0aafa0053f"
      },
      "execution_count": 187,
      "outputs": [
        {
          "output_type": "execute_result",
          "data": {
            "text/plain": [
              "0      Хотите увидеть все и сразу? Пожалуйста! Пригот...\n",
              "1      Культурный центр «Хитровка» — сердце московско...\n",
              "2      Откройте для себя удивительное место Москвы от...\n",
              "3      Где Василий Поленов писал свою знаменитую карт...\n",
              "4      С 1904 года Александровский дворец в Царском С...\n",
              "                             ...                        \n",
              "453    Почему Большая Покровская всегда была главной ...\n",
              "454    Прогуляйтесь по таинственным местам Сочи и пог...\n",
              "455    Отправьтесь в один из крупнейших собачьих пито...\n",
              "456    Приехать в Москву и не побывать на Красной пло...\n",
              "457    Познакомьтесь с древним Звенигородом. Вы прогу...\n",
              "Name: text, Length: 458, dtype: object"
            ]
          },
          "metadata": {},
          "execution_count": 187
        }
      ]
    },
    {
      "cell_type": "code",
      "source": [
        "print(df.columns.tolist())"
      ],
      "metadata": {
        "colab": {
          "base_uri": "https://localhost:8080/"
        },
        "id": "IiuvZe1Xx5cz",
        "outputId": "b3c8ad9b-82a2-4eb7-f706-2af75e1d0855"
      },
      "execution_count": 188,
      "outputs": [
        {
          "output_type": "stream",
          "name": "stdout",
          "text": [
            "['text', 'one', 'two', 'three', 'four', 'five', 'six']\n"
          ]
        }
      ]
    },
    {
      "cell_type": "markdown",
      "source": [
        "# **Работаем с таблицой, чистим ее**"
      ],
      "metadata": {
        "id": "rebPDb-EEPfM"
      }
    },
    {
      "cell_type": "code",
      "source": [
        "df.reset_index(drop=True, inplace= True)"
      ],
      "metadata": {
        "id": "Dq1M7vu5vZor"
      },
      "execution_count": 189,
      "outputs": []
    },
    {
      "cell_type": "code",
      "source": [
        "df"
      ],
      "metadata": {
        "colab": {
          "base_uri": "https://localhost:8080/",
          "height": 1000
        },
        "id": "UFJnYKFPwhiM",
        "outputId": "ea75a5bc-b376-4129-8884-18abaf4c3dbb"
      },
      "execution_count": 190,
      "outputs": [
        {
          "output_type": "execute_result",
          "data": {
            "text/plain": [
              "                                                  text  \\\n",
              "0    Хотите увидеть все и сразу? Пожалуйста! Пригот...   \n",
              "1    Культурный центр «Хитровка» — сердце московско...   \n",
              "2    Откройте для себя удивительное место Москвы от...   \n",
              "3    Где Василий Поленов писал свою знаменитую карт...   \n",
              "4    С 1904 года Александровский дворец в Царском С...   \n",
              "..                                                 ...   \n",
              "453  Почему Большая Покровская всегда была главной ...   \n",
              "454  Прогуляйтесь по таинственным местам Сочи и пог...   \n",
              "455  Отправьтесь в один из крупнейших собачьих пито...   \n",
              "456  Приехать в Москву и не побывать на Красной пло...   \n",
              "457  Познакомьтесь с древним Звенигородом. Вы прогу...   \n",
              "\n",
              "                               one                 two    three four  \\\n",
              "0                            Музеи                 NaN      NaN  NaN   \n",
              "1                 Местная_культура    Местная_культура  История  NaN   \n",
              "2                          История  Искусство_и_ театр      NaN  NaN   \n",
              "3    Увидеть_достопримечательности                 NaN      NaN  NaN   \n",
              "4                              NaN                 NaN      NaN  NaN   \n",
              "..                             ...                 ...      ...  ...   \n",
              "453                        История  Искусство_и_ театр      NaN  NaN   \n",
              "454                           Пляж                 NaN      NaN  NaN   \n",
              "455                        История                 NaN      NaN  NaN   \n",
              "456                        История                 NaN      NaN  NaN   \n",
              "457                        История                 NaN      NaN  NaN   \n",
              "\n",
              "                  five  six  \n",
              "0    Исследовательское  NaN  \n",
              "1    Исследовательское  NaN  \n",
              "2    Исследовательское  NaN  \n",
              "3    Исследовательское  NaN  \n",
              "4    Исследовательское  NaN  \n",
              "..                 ...  ...  \n",
              "453  Исследовательское  NaN  \n",
              "454  Исследовательское  NaN  \n",
              "455  Исследовательское  NaN  \n",
              "456  Исследовательское  NaN  \n",
              "457  Исследовательское  NaN  \n",
              "\n",
              "[458 rows x 7 columns]"
            ],
            "text/html": [
              "\n",
              "  <div id=\"df-f69161fa-26ad-4392-971e-1790493de287\">\n",
              "    <div class=\"colab-df-container\">\n",
              "      <div>\n",
              "<style scoped>\n",
              "    .dataframe tbody tr th:only-of-type {\n",
              "        vertical-align: middle;\n",
              "    }\n",
              "\n",
              "    .dataframe tbody tr th {\n",
              "        vertical-align: top;\n",
              "    }\n",
              "\n",
              "    .dataframe thead th {\n",
              "        text-align: right;\n",
              "    }\n",
              "</style>\n",
              "<table border=\"1\" class=\"dataframe\">\n",
              "  <thead>\n",
              "    <tr style=\"text-align: right;\">\n",
              "      <th></th>\n",
              "      <th>text</th>\n",
              "      <th>one</th>\n",
              "      <th>two</th>\n",
              "      <th>three</th>\n",
              "      <th>four</th>\n",
              "      <th>five</th>\n",
              "      <th>six</th>\n",
              "    </tr>\n",
              "  </thead>\n",
              "  <tbody>\n",
              "    <tr>\n",
              "      <th>0</th>\n",
              "      <td>Хотите увидеть все и сразу? Пожалуйста! Пригот...</td>\n",
              "      <td>Музеи</td>\n",
              "      <td>NaN</td>\n",
              "      <td>NaN</td>\n",
              "      <td>NaN</td>\n",
              "      <td>Исследовательское</td>\n",
              "      <td>NaN</td>\n",
              "    </tr>\n",
              "    <tr>\n",
              "      <th>1</th>\n",
              "      <td>Культурный центр «Хитровка» — сердце московско...</td>\n",
              "      <td>Местная_культура</td>\n",
              "      <td>Местная_культура</td>\n",
              "      <td>История</td>\n",
              "      <td>NaN</td>\n",
              "      <td>Исследовательское</td>\n",
              "      <td>NaN</td>\n",
              "    </tr>\n",
              "    <tr>\n",
              "      <th>2</th>\n",
              "      <td>Откройте для себя удивительное место Москвы от...</td>\n",
              "      <td>История</td>\n",
              "      <td>Искусство_и_ театр</td>\n",
              "      <td>NaN</td>\n",
              "      <td>NaN</td>\n",
              "      <td>Исследовательское</td>\n",
              "      <td>NaN</td>\n",
              "    </tr>\n",
              "    <tr>\n",
              "      <th>3</th>\n",
              "      <td>Где Василий Поленов писал свою знаменитую карт...</td>\n",
              "      <td>Увидеть_достопримечательности</td>\n",
              "      <td>NaN</td>\n",
              "      <td>NaN</td>\n",
              "      <td>NaN</td>\n",
              "      <td>Исследовательское</td>\n",
              "      <td>NaN</td>\n",
              "    </tr>\n",
              "    <tr>\n",
              "      <th>4</th>\n",
              "      <td>С 1904 года Александровский дворец в Царском С...</td>\n",
              "      <td>NaN</td>\n",
              "      <td>NaN</td>\n",
              "      <td>NaN</td>\n",
              "      <td>NaN</td>\n",
              "      <td>Исследовательское</td>\n",
              "      <td>NaN</td>\n",
              "    </tr>\n",
              "    <tr>\n",
              "      <th>...</th>\n",
              "      <td>...</td>\n",
              "      <td>...</td>\n",
              "      <td>...</td>\n",
              "      <td>...</td>\n",
              "      <td>...</td>\n",
              "      <td>...</td>\n",
              "      <td>...</td>\n",
              "    </tr>\n",
              "    <tr>\n",
              "      <th>453</th>\n",
              "      <td>Почему Большая Покровская всегда была главной ...</td>\n",
              "      <td>История</td>\n",
              "      <td>Искусство_и_ театр</td>\n",
              "      <td>NaN</td>\n",
              "      <td>NaN</td>\n",
              "      <td>Исследовательское</td>\n",
              "      <td>NaN</td>\n",
              "    </tr>\n",
              "    <tr>\n",
              "      <th>454</th>\n",
              "      <td>Прогуляйтесь по таинственным местам Сочи и пог...</td>\n",
              "      <td>Пляж</td>\n",
              "      <td>NaN</td>\n",
              "      <td>NaN</td>\n",
              "      <td>NaN</td>\n",
              "      <td>Исследовательское</td>\n",
              "      <td>NaN</td>\n",
              "    </tr>\n",
              "    <tr>\n",
              "      <th>455</th>\n",
              "      <td>Отправьтесь в один из крупнейших собачьих пито...</td>\n",
              "      <td>История</td>\n",
              "      <td>NaN</td>\n",
              "      <td>NaN</td>\n",
              "      <td>NaN</td>\n",
              "      <td>Исследовательское</td>\n",
              "      <td>NaN</td>\n",
              "    </tr>\n",
              "    <tr>\n",
              "      <th>456</th>\n",
              "      <td>Приехать в Москву и не побывать на Красной пло...</td>\n",
              "      <td>История</td>\n",
              "      <td>NaN</td>\n",
              "      <td>NaN</td>\n",
              "      <td>NaN</td>\n",
              "      <td>Исследовательское</td>\n",
              "      <td>NaN</td>\n",
              "    </tr>\n",
              "    <tr>\n",
              "      <th>457</th>\n",
              "      <td>Познакомьтесь с древним Звенигородом. Вы прогу...</td>\n",
              "      <td>История</td>\n",
              "      <td>NaN</td>\n",
              "      <td>NaN</td>\n",
              "      <td>NaN</td>\n",
              "      <td>Исследовательское</td>\n",
              "      <td>NaN</td>\n",
              "    </tr>\n",
              "  </tbody>\n",
              "</table>\n",
              "<p>458 rows × 7 columns</p>\n",
              "</div>\n",
              "      <button class=\"colab-df-convert\" onclick=\"convertToInteractive('df-f69161fa-26ad-4392-971e-1790493de287')\"\n",
              "              title=\"Convert this dataframe to an interactive table.\"\n",
              "              style=\"display:none;\">\n",
              "        \n",
              "  <svg xmlns=\"http://www.w3.org/2000/svg\" height=\"24px\"viewBox=\"0 0 24 24\"\n",
              "       width=\"24px\">\n",
              "    <path d=\"M0 0h24v24H0V0z\" fill=\"none\"/>\n",
              "    <path d=\"M18.56 5.44l.94 2.06.94-2.06 2.06-.94-2.06-.94-.94-2.06-.94 2.06-2.06.94zm-11 1L8.5 8.5l.94-2.06 2.06-.94-2.06-.94L8.5 2.5l-.94 2.06-2.06.94zm10 10l.94 2.06.94-2.06 2.06-.94-2.06-.94-.94-2.06-.94 2.06-2.06.94z\"/><path d=\"M17.41 7.96l-1.37-1.37c-.4-.4-.92-.59-1.43-.59-.52 0-1.04.2-1.43.59L10.3 9.45l-7.72 7.72c-.78.78-.78 2.05 0 2.83L4 21.41c.39.39.9.59 1.41.59.51 0 1.02-.2 1.41-.59l7.78-7.78 2.81-2.81c.8-.78.8-2.07 0-2.86zM5.41 20L4 18.59l7.72-7.72 1.47 1.35L5.41 20z\"/>\n",
              "  </svg>\n",
              "      </button>\n",
              "      \n",
              "  <style>\n",
              "    .colab-df-container {\n",
              "      display:flex;\n",
              "      flex-wrap:wrap;\n",
              "      gap: 12px;\n",
              "    }\n",
              "\n",
              "    .colab-df-convert {\n",
              "      background-color: #E8F0FE;\n",
              "      border: none;\n",
              "      border-radius: 50%;\n",
              "      cursor: pointer;\n",
              "      display: none;\n",
              "      fill: #1967D2;\n",
              "      height: 32px;\n",
              "      padding: 0 0 0 0;\n",
              "      width: 32px;\n",
              "    }\n",
              "\n",
              "    .colab-df-convert:hover {\n",
              "      background-color: #E2EBFA;\n",
              "      box-shadow: 0px 1px 2px rgba(60, 64, 67, 0.3), 0px 1px 3px 1px rgba(60, 64, 67, 0.15);\n",
              "      fill: #174EA6;\n",
              "    }\n",
              "\n",
              "    [theme=dark] .colab-df-convert {\n",
              "      background-color: #3B4455;\n",
              "      fill: #D2E3FC;\n",
              "    }\n",
              "\n",
              "    [theme=dark] .colab-df-convert:hover {\n",
              "      background-color: #434B5C;\n",
              "      box-shadow: 0px 1px 3px 1px rgba(0, 0, 0, 0.15);\n",
              "      filter: drop-shadow(0px 1px 2px rgba(0, 0, 0, 0.3));\n",
              "      fill: #FFFFFF;\n",
              "    }\n",
              "  </style>\n",
              "\n",
              "      <script>\n",
              "        const buttonEl =\n",
              "          document.querySelector('#df-f69161fa-26ad-4392-971e-1790493de287 button.colab-df-convert');\n",
              "        buttonEl.style.display =\n",
              "          google.colab.kernel.accessAllowed ? 'block' : 'none';\n",
              "\n",
              "        async function convertToInteractive(key) {\n",
              "          const element = document.querySelector('#df-f69161fa-26ad-4392-971e-1790493de287');\n",
              "          const dataTable =\n",
              "            await google.colab.kernel.invokeFunction('convertToInteractive',\n",
              "                                                     [key], {});\n",
              "          if (!dataTable) return;\n",
              "\n",
              "          const docLinkHtml = 'Like what you see? Visit the ' +\n",
              "            '<a target=\"_blank\" href=https://colab.research.google.com/notebooks/data_table.ipynb>data table notebook</a>'\n",
              "            + ' to learn more about interactive tables.';\n",
              "          element.innerHTML = '';\n",
              "          dataTable['output_type'] = 'display_data';\n",
              "          await google.colab.output.renderOutput(dataTable, element);\n",
              "          const docLink = document.createElement('div');\n",
              "          docLink.innerHTML = docLinkHtml;\n",
              "          element.appendChild(docLink);\n",
              "        }\n",
              "      </script>\n",
              "    </div>\n",
              "  </div>\n",
              "  "
            ]
          },
          "metadata": {},
          "execution_count": 190
        }
      ]
    },
    {
      "cell_type": "code",
      "source": [
        "df_1 = df.dropna(axis=0, how='all') #удаляем пустые строки и столбцы\n",
        "df_2 = df_1.dropna(axis=1, how='all')"
      ],
      "metadata": {
        "id": "-HJvGzoltN5Z"
      },
      "execution_count": 191,
      "outputs": []
    },
    {
      "cell_type": "code",
      "source": [
        "df_2.fillna(\"\", inplace=True)"
      ],
      "metadata": {
        "id": "zh91m_HPps6R"
      },
      "execution_count": 192,
      "outputs": []
    },
    {
      "cell_type": "code",
      "source": [
        "df_2"
      ],
      "metadata": {
        "colab": {
          "base_uri": "https://localhost:8080/",
          "height": 1000
        },
        "id": "9WXOZj2OpzxT",
        "outputId": "2197c305-b399-4cb5-acac-feb73026b58c"
      },
      "execution_count": 193,
      "outputs": [
        {
          "output_type": "execute_result",
          "data": {
            "text/plain": [
              "                                                  text  \\\n",
              "0    Хотите увидеть все и сразу? Пожалуйста! Пригот...   \n",
              "1    Культурный центр «Хитровка» — сердце московско...   \n",
              "2    Откройте для себя удивительное место Москвы от...   \n",
              "3    Где Василий Поленов писал свою знаменитую карт...   \n",
              "4    С 1904 года Александровский дворец в Царском С...   \n",
              "..                                                 ...   \n",
              "453  Почему Большая Покровская всегда была главной ...   \n",
              "454  Прогуляйтесь по таинственным местам Сочи и пог...   \n",
              "455  Отправьтесь в один из крупнейших собачьих пито...   \n",
              "456  Приехать в Москву и не побывать на Красной пло...   \n",
              "457  Познакомьтесь с древним Звенигородом. Вы прогу...   \n",
              "\n",
              "                               one                 two    three four  \\\n",
              "0                            Музеи                                     \n",
              "1                 Местная_культура    Местная_культура  История        \n",
              "2                          История  Искусство_и_ театр                 \n",
              "3    Увидеть_достопримечательности                                     \n",
              "4                                                                      \n",
              "..                             ...                 ...      ...  ...   \n",
              "453                        История  Искусство_и_ театр                 \n",
              "454                           Пляж                                     \n",
              "455                        История                                     \n",
              "456                        История                                     \n",
              "457                        История                                     \n",
              "\n",
              "                  five six  \n",
              "0    Исследовательское      \n",
              "1    Исследовательское      \n",
              "2    Исследовательское      \n",
              "3    Исследовательское      \n",
              "4    Исследовательское      \n",
              "..                 ...  ..  \n",
              "453  Исследовательское      \n",
              "454  Исследовательское      \n",
              "455  Исследовательское      \n",
              "456  Исследовательское      \n",
              "457  Исследовательское      \n",
              "\n",
              "[458 rows x 7 columns]"
            ],
            "text/html": [
              "\n",
              "  <div id=\"df-67d2c267-01c6-4b0c-8974-dd5b027993d6\">\n",
              "    <div class=\"colab-df-container\">\n",
              "      <div>\n",
              "<style scoped>\n",
              "    .dataframe tbody tr th:only-of-type {\n",
              "        vertical-align: middle;\n",
              "    }\n",
              "\n",
              "    .dataframe tbody tr th {\n",
              "        vertical-align: top;\n",
              "    }\n",
              "\n",
              "    .dataframe thead th {\n",
              "        text-align: right;\n",
              "    }\n",
              "</style>\n",
              "<table border=\"1\" class=\"dataframe\">\n",
              "  <thead>\n",
              "    <tr style=\"text-align: right;\">\n",
              "      <th></th>\n",
              "      <th>text</th>\n",
              "      <th>one</th>\n",
              "      <th>two</th>\n",
              "      <th>three</th>\n",
              "      <th>four</th>\n",
              "      <th>five</th>\n",
              "      <th>six</th>\n",
              "    </tr>\n",
              "  </thead>\n",
              "  <tbody>\n",
              "    <tr>\n",
              "      <th>0</th>\n",
              "      <td>Хотите увидеть все и сразу? Пожалуйста! Пригот...</td>\n",
              "      <td>Музеи</td>\n",
              "      <td></td>\n",
              "      <td></td>\n",
              "      <td></td>\n",
              "      <td>Исследовательское</td>\n",
              "      <td></td>\n",
              "    </tr>\n",
              "    <tr>\n",
              "      <th>1</th>\n",
              "      <td>Культурный центр «Хитровка» — сердце московско...</td>\n",
              "      <td>Местная_культура</td>\n",
              "      <td>Местная_культура</td>\n",
              "      <td>История</td>\n",
              "      <td></td>\n",
              "      <td>Исследовательское</td>\n",
              "      <td></td>\n",
              "    </tr>\n",
              "    <tr>\n",
              "      <th>2</th>\n",
              "      <td>Откройте для себя удивительное место Москвы от...</td>\n",
              "      <td>История</td>\n",
              "      <td>Искусство_и_ театр</td>\n",
              "      <td></td>\n",
              "      <td></td>\n",
              "      <td>Исследовательское</td>\n",
              "      <td></td>\n",
              "    </tr>\n",
              "    <tr>\n",
              "      <th>3</th>\n",
              "      <td>Где Василий Поленов писал свою знаменитую карт...</td>\n",
              "      <td>Увидеть_достопримечательности</td>\n",
              "      <td></td>\n",
              "      <td></td>\n",
              "      <td></td>\n",
              "      <td>Исследовательское</td>\n",
              "      <td></td>\n",
              "    </tr>\n",
              "    <tr>\n",
              "      <th>4</th>\n",
              "      <td>С 1904 года Александровский дворец в Царском С...</td>\n",
              "      <td></td>\n",
              "      <td></td>\n",
              "      <td></td>\n",
              "      <td></td>\n",
              "      <td>Исследовательское</td>\n",
              "      <td></td>\n",
              "    </tr>\n",
              "    <tr>\n",
              "      <th>...</th>\n",
              "      <td>...</td>\n",
              "      <td>...</td>\n",
              "      <td>...</td>\n",
              "      <td>...</td>\n",
              "      <td>...</td>\n",
              "      <td>...</td>\n",
              "      <td>...</td>\n",
              "    </tr>\n",
              "    <tr>\n",
              "      <th>453</th>\n",
              "      <td>Почему Большая Покровская всегда была главной ...</td>\n",
              "      <td>История</td>\n",
              "      <td>Искусство_и_ театр</td>\n",
              "      <td></td>\n",
              "      <td></td>\n",
              "      <td>Исследовательское</td>\n",
              "      <td></td>\n",
              "    </tr>\n",
              "    <tr>\n",
              "      <th>454</th>\n",
              "      <td>Прогуляйтесь по таинственным местам Сочи и пог...</td>\n",
              "      <td>Пляж</td>\n",
              "      <td></td>\n",
              "      <td></td>\n",
              "      <td></td>\n",
              "      <td>Исследовательское</td>\n",
              "      <td></td>\n",
              "    </tr>\n",
              "    <tr>\n",
              "      <th>455</th>\n",
              "      <td>Отправьтесь в один из крупнейших собачьих пито...</td>\n",
              "      <td>История</td>\n",
              "      <td></td>\n",
              "      <td></td>\n",
              "      <td></td>\n",
              "      <td>Исследовательское</td>\n",
              "      <td></td>\n",
              "    </tr>\n",
              "    <tr>\n",
              "      <th>456</th>\n",
              "      <td>Приехать в Москву и не побывать на Красной пло...</td>\n",
              "      <td>История</td>\n",
              "      <td></td>\n",
              "      <td></td>\n",
              "      <td></td>\n",
              "      <td>Исследовательское</td>\n",
              "      <td></td>\n",
              "    </tr>\n",
              "    <tr>\n",
              "      <th>457</th>\n",
              "      <td>Познакомьтесь с древним Звенигородом. Вы прогу...</td>\n",
              "      <td>История</td>\n",
              "      <td></td>\n",
              "      <td></td>\n",
              "      <td></td>\n",
              "      <td>Исследовательское</td>\n",
              "      <td></td>\n",
              "    </tr>\n",
              "  </tbody>\n",
              "</table>\n",
              "<p>458 rows × 7 columns</p>\n",
              "</div>\n",
              "      <button class=\"colab-df-convert\" onclick=\"convertToInteractive('df-67d2c267-01c6-4b0c-8974-dd5b027993d6')\"\n",
              "              title=\"Convert this dataframe to an interactive table.\"\n",
              "              style=\"display:none;\">\n",
              "        \n",
              "  <svg xmlns=\"http://www.w3.org/2000/svg\" height=\"24px\"viewBox=\"0 0 24 24\"\n",
              "       width=\"24px\">\n",
              "    <path d=\"M0 0h24v24H0V0z\" fill=\"none\"/>\n",
              "    <path d=\"M18.56 5.44l.94 2.06.94-2.06 2.06-.94-2.06-.94-.94-2.06-.94 2.06-2.06.94zm-11 1L8.5 8.5l.94-2.06 2.06-.94-2.06-.94L8.5 2.5l-.94 2.06-2.06.94zm10 10l.94 2.06.94-2.06 2.06-.94-2.06-.94-.94-2.06-.94 2.06-2.06.94z\"/><path d=\"M17.41 7.96l-1.37-1.37c-.4-.4-.92-.59-1.43-.59-.52 0-1.04.2-1.43.59L10.3 9.45l-7.72 7.72c-.78.78-.78 2.05 0 2.83L4 21.41c.39.39.9.59 1.41.59.51 0 1.02-.2 1.41-.59l7.78-7.78 2.81-2.81c.8-.78.8-2.07 0-2.86zM5.41 20L4 18.59l7.72-7.72 1.47 1.35L5.41 20z\"/>\n",
              "  </svg>\n",
              "      </button>\n",
              "      \n",
              "  <style>\n",
              "    .colab-df-container {\n",
              "      display:flex;\n",
              "      flex-wrap:wrap;\n",
              "      gap: 12px;\n",
              "    }\n",
              "\n",
              "    .colab-df-convert {\n",
              "      background-color: #E8F0FE;\n",
              "      border: none;\n",
              "      border-radius: 50%;\n",
              "      cursor: pointer;\n",
              "      display: none;\n",
              "      fill: #1967D2;\n",
              "      height: 32px;\n",
              "      padding: 0 0 0 0;\n",
              "      width: 32px;\n",
              "    }\n",
              "\n",
              "    .colab-df-convert:hover {\n",
              "      background-color: #E2EBFA;\n",
              "      box-shadow: 0px 1px 2px rgba(60, 64, 67, 0.3), 0px 1px 3px 1px rgba(60, 64, 67, 0.15);\n",
              "      fill: #174EA6;\n",
              "    }\n",
              "\n",
              "    [theme=dark] .colab-df-convert {\n",
              "      background-color: #3B4455;\n",
              "      fill: #D2E3FC;\n",
              "    }\n",
              "\n",
              "    [theme=dark] .colab-df-convert:hover {\n",
              "      background-color: #434B5C;\n",
              "      box-shadow: 0px 1px 3px 1px rgba(0, 0, 0, 0.15);\n",
              "      filter: drop-shadow(0px 1px 2px rgba(0, 0, 0, 0.3));\n",
              "      fill: #FFFFFF;\n",
              "    }\n",
              "  </style>\n",
              "\n",
              "      <script>\n",
              "        const buttonEl =\n",
              "          document.querySelector('#df-67d2c267-01c6-4b0c-8974-dd5b027993d6 button.colab-df-convert');\n",
              "        buttonEl.style.display =\n",
              "          google.colab.kernel.accessAllowed ? 'block' : 'none';\n",
              "\n",
              "        async function convertToInteractive(key) {\n",
              "          const element = document.querySelector('#df-67d2c267-01c6-4b0c-8974-dd5b027993d6');\n",
              "          const dataTable =\n",
              "            await google.colab.kernel.invokeFunction('convertToInteractive',\n",
              "                                                     [key], {});\n",
              "          if (!dataTable) return;\n",
              "\n",
              "          const docLinkHtml = 'Like what you see? Visit the ' +\n",
              "            '<a target=\"_blank\" href=https://colab.research.google.com/notebooks/data_table.ipynb>data table notebook</a>'\n",
              "            + ' to learn more about interactive tables.';\n",
              "          element.innerHTML = '';\n",
              "          dataTable['output_type'] = 'display_data';\n",
              "          await google.colab.output.renderOutput(dataTable, element);\n",
              "          const docLink = document.createElement('div');\n",
              "          docLink.innerHTML = docLinkHtml;\n",
              "          element.appendChild(docLink);\n",
              "        }\n",
              "      </script>\n",
              "    </div>\n",
              "  </div>\n",
              "  "
            ]
          },
          "metadata": {},
          "execution_count": 193
        }
      ]
    },
    {
      "cell_type": "code",
      "source": [
        "df_2.shape"
      ],
      "metadata": {
        "colab": {
          "base_uri": "https://localhost:8080/"
        },
        "id": "66NK_ce0s3z8",
        "outputId": "9854e53f-1f25-4070-f05c-4b5f13aa7927"
      },
      "execution_count": 194,
      "outputs": [
        {
          "output_type": "execute_result",
          "data": {
            "text/plain": [
              "(458, 7)"
            ]
          },
          "metadata": {},
          "execution_count": 194
        }
      ]
    },
    {
      "cell_type": "code",
      "source": [
        "df_2['все_вместе'] = df_2[['one', 'two', 'three', 'four', 'five', 'six']]. agg(' '. join , axis= 1 )"
      ],
      "metadata": {
        "id": "KCEmlv_OiIpZ"
      },
      "execution_count": 195,
      "outputs": []
    },
    {
      "cell_type": "code",
      "source": [
        "df_3=df_2[[\"text\",\"все_вместе\"]]"
      ],
      "metadata": {
        "id": "JRIW-HvuhRu3"
      },
      "execution_count": 196,
      "outputs": []
    },
    {
      "cell_type": "code",
      "source": [
        "df_3"
      ],
      "metadata": {
        "colab": {
          "base_uri": "https://localhost:8080/",
          "height": 641
        },
        "id": "tLTfmkkzkSDC",
        "outputId": "e66ccc43-bddf-4af9-9c25-648fb72673fd"
      },
      "execution_count": 197,
      "outputs": [
        {
          "output_type": "execute_result",
          "data": {
            "text/plain": [
              "                                                  text  \\\n",
              "0    Хотите увидеть все и сразу? Пожалуйста! Пригот...   \n",
              "1    Культурный центр «Хитровка» — сердце московско...   \n",
              "2    Откройте для себя удивительное место Москвы от...   \n",
              "3    Где Василий Поленов писал свою знаменитую карт...   \n",
              "4    С 1904 года Александровский дворец в Царском С...   \n",
              "..                                                 ...   \n",
              "453  Почему Большая Покровская всегда была главной ...   \n",
              "454  Прогуляйтесь по таинственным местам Сочи и пог...   \n",
              "455  Отправьтесь в один из крупнейших собачьих пито...   \n",
              "456  Приехать в Москву и не побывать на Красной пло...   \n",
              "457  Познакомьтесь с древним Звенигородом. Вы прогу...   \n",
              "\n",
              "                                            все_вместе  \n",
              "0                          Музеи    Исследовательское   \n",
              "1    Местная_культура Местная_культура История  Исс...  \n",
              "2      История Искусство_и_ театр   Исследовательское   \n",
              "3    Увидеть_достопримечательности    Исследователь...  \n",
              "4                                   Исследовательское   \n",
              "..                                                 ...  \n",
              "453    История Искусство_и_ театр   Исследовательское   \n",
              "454                         Пляж    Исследовательское   \n",
              "455                      История    Исследовательское   \n",
              "456                      История    Исследовательское   \n",
              "457                      История    Исследовательское   \n",
              "\n",
              "[458 rows x 2 columns]"
            ],
            "text/html": [
              "\n",
              "  <div id=\"df-5a991ce6-4af3-46d0-a0f3-60861a6ab84c\">\n",
              "    <div class=\"colab-df-container\">\n",
              "      <div>\n",
              "<style scoped>\n",
              "    .dataframe tbody tr th:only-of-type {\n",
              "        vertical-align: middle;\n",
              "    }\n",
              "\n",
              "    .dataframe tbody tr th {\n",
              "        vertical-align: top;\n",
              "    }\n",
              "\n",
              "    .dataframe thead th {\n",
              "        text-align: right;\n",
              "    }\n",
              "</style>\n",
              "<table border=\"1\" class=\"dataframe\">\n",
              "  <thead>\n",
              "    <tr style=\"text-align: right;\">\n",
              "      <th></th>\n",
              "      <th>text</th>\n",
              "      <th>все_вместе</th>\n",
              "    </tr>\n",
              "  </thead>\n",
              "  <tbody>\n",
              "    <tr>\n",
              "      <th>0</th>\n",
              "      <td>Хотите увидеть все и сразу? Пожалуйста! Пригот...</td>\n",
              "      <td>Музеи    Исследовательское</td>\n",
              "    </tr>\n",
              "    <tr>\n",
              "      <th>1</th>\n",
              "      <td>Культурный центр «Хитровка» — сердце московско...</td>\n",
              "      <td>Местная_культура Местная_культура История  Исс...</td>\n",
              "    </tr>\n",
              "    <tr>\n",
              "      <th>2</th>\n",
              "      <td>Откройте для себя удивительное место Москвы от...</td>\n",
              "      <td>История Искусство_и_ театр   Исследовательское</td>\n",
              "    </tr>\n",
              "    <tr>\n",
              "      <th>3</th>\n",
              "      <td>Где Василий Поленов писал свою знаменитую карт...</td>\n",
              "      <td>Увидеть_достопримечательности    Исследователь...</td>\n",
              "    </tr>\n",
              "    <tr>\n",
              "      <th>4</th>\n",
              "      <td>С 1904 года Александровский дворец в Царском С...</td>\n",
              "      <td>Исследовательское</td>\n",
              "    </tr>\n",
              "    <tr>\n",
              "      <th>...</th>\n",
              "      <td>...</td>\n",
              "      <td>...</td>\n",
              "    </tr>\n",
              "    <tr>\n",
              "      <th>453</th>\n",
              "      <td>Почему Большая Покровская всегда была главной ...</td>\n",
              "      <td>История Искусство_и_ театр   Исследовательское</td>\n",
              "    </tr>\n",
              "    <tr>\n",
              "      <th>454</th>\n",
              "      <td>Прогуляйтесь по таинственным местам Сочи и пог...</td>\n",
              "      <td>Пляж    Исследовательское</td>\n",
              "    </tr>\n",
              "    <tr>\n",
              "      <th>455</th>\n",
              "      <td>Отправьтесь в один из крупнейших собачьих пито...</td>\n",
              "      <td>История    Исследовательское</td>\n",
              "    </tr>\n",
              "    <tr>\n",
              "      <th>456</th>\n",
              "      <td>Приехать в Москву и не побывать на Красной пло...</td>\n",
              "      <td>История    Исследовательское</td>\n",
              "    </tr>\n",
              "    <tr>\n",
              "      <th>457</th>\n",
              "      <td>Познакомьтесь с древним Звенигородом. Вы прогу...</td>\n",
              "      <td>История    Исследовательское</td>\n",
              "    </tr>\n",
              "  </tbody>\n",
              "</table>\n",
              "<p>458 rows × 2 columns</p>\n",
              "</div>\n",
              "      <button class=\"colab-df-convert\" onclick=\"convertToInteractive('df-5a991ce6-4af3-46d0-a0f3-60861a6ab84c')\"\n",
              "              title=\"Convert this dataframe to an interactive table.\"\n",
              "              style=\"display:none;\">\n",
              "        \n",
              "  <svg xmlns=\"http://www.w3.org/2000/svg\" height=\"24px\"viewBox=\"0 0 24 24\"\n",
              "       width=\"24px\">\n",
              "    <path d=\"M0 0h24v24H0V0z\" fill=\"none\"/>\n",
              "    <path d=\"M18.56 5.44l.94 2.06.94-2.06 2.06-.94-2.06-.94-.94-2.06-.94 2.06-2.06.94zm-11 1L8.5 8.5l.94-2.06 2.06-.94-2.06-.94L8.5 2.5l-.94 2.06-2.06.94zm10 10l.94 2.06.94-2.06 2.06-.94-2.06-.94-.94-2.06-.94 2.06-2.06.94z\"/><path d=\"M17.41 7.96l-1.37-1.37c-.4-.4-.92-.59-1.43-.59-.52 0-1.04.2-1.43.59L10.3 9.45l-7.72 7.72c-.78.78-.78 2.05 0 2.83L4 21.41c.39.39.9.59 1.41.59.51 0 1.02-.2 1.41-.59l7.78-7.78 2.81-2.81c.8-.78.8-2.07 0-2.86zM5.41 20L4 18.59l7.72-7.72 1.47 1.35L5.41 20z\"/>\n",
              "  </svg>\n",
              "      </button>\n",
              "      \n",
              "  <style>\n",
              "    .colab-df-container {\n",
              "      display:flex;\n",
              "      flex-wrap:wrap;\n",
              "      gap: 12px;\n",
              "    }\n",
              "\n",
              "    .colab-df-convert {\n",
              "      background-color: #E8F0FE;\n",
              "      border: none;\n",
              "      border-radius: 50%;\n",
              "      cursor: pointer;\n",
              "      display: none;\n",
              "      fill: #1967D2;\n",
              "      height: 32px;\n",
              "      padding: 0 0 0 0;\n",
              "      width: 32px;\n",
              "    }\n",
              "\n",
              "    .colab-df-convert:hover {\n",
              "      background-color: #E2EBFA;\n",
              "      box-shadow: 0px 1px 2px rgba(60, 64, 67, 0.3), 0px 1px 3px 1px rgba(60, 64, 67, 0.15);\n",
              "      fill: #174EA6;\n",
              "    }\n",
              "\n",
              "    [theme=dark] .colab-df-convert {\n",
              "      background-color: #3B4455;\n",
              "      fill: #D2E3FC;\n",
              "    }\n",
              "\n",
              "    [theme=dark] .colab-df-convert:hover {\n",
              "      background-color: #434B5C;\n",
              "      box-shadow: 0px 1px 3px 1px rgba(0, 0, 0, 0.15);\n",
              "      filter: drop-shadow(0px 1px 2px rgba(0, 0, 0, 0.3));\n",
              "      fill: #FFFFFF;\n",
              "    }\n",
              "  </style>\n",
              "\n",
              "      <script>\n",
              "        const buttonEl =\n",
              "          document.querySelector('#df-5a991ce6-4af3-46d0-a0f3-60861a6ab84c button.colab-df-convert');\n",
              "        buttonEl.style.display =\n",
              "          google.colab.kernel.accessAllowed ? 'block' : 'none';\n",
              "\n",
              "        async function convertToInteractive(key) {\n",
              "          const element = document.querySelector('#df-5a991ce6-4af3-46d0-a0f3-60861a6ab84c');\n",
              "          const dataTable =\n",
              "            await google.colab.kernel.invokeFunction('convertToInteractive',\n",
              "                                                     [key], {});\n",
              "          if (!dataTable) return;\n",
              "\n",
              "          const docLinkHtml = 'Like what you see? Visit the ' +\n",
              "            '<a target=\"_blank\" href=https://colab.research.google.com/notebooks/data_table.ipynb>data table notebook</a>'\n",
              "            + ' to learn more about interactive tables.';\n",
              "          element.innerHTML = '';\n",
              "          dataTable['output_type'] = 'display_data';\n",
              "          await google.colab.output.renderOutput(dataTable, element);\n",
              "          const docLink = document.createElement('div');\n",
              "          docLink.innerHTML = docLinkHtml;\n",
              "          element.appendChild(docLink);\n",
              "        }\n",
              "      </script>\n",
              "    </div>\n",
              "  </div>\n",
              "  "
            ]
          },
          "metadata": {},
          "execution_count": 197
        }
      ]
    },
    {
      "cell_type": "code",
      "source": [
        "df_3['все_вместе'] = df_3['все_вместе'].str.lower()"
      ],
      "metadata": {
        "colab": {
          "base_uri": "https://localhost:8080/"
        },
        "id": "CKNMEKdq6aGw",
        "outputId": "5723c3f7-6307-43c7-e559-afc5d4febf97"
      },
      "execution_count": 198,
      "outputs": [
        {
          "output_type": "stream",
          "name": "stderr",
          "text": [
            "<ipython-input-198-fe533ee6fa87>:1: SettingWithCopyWarning: \n",
            "A value is trying to be set on a copy of a slice from a DataFrame.\n",
            "Try using .loc[row_indexer,col_indexer] = value instead\n",
            "\n",
            "See the caveats in the documentation: https://pandas.pydata.org/pandas-docs/stable/user_guide/indexing.html#returning-a-view-versus-a-copy\n",
            "  df_3['все_вместе'] = df_3['все_вместе'].str.lower()\n"
          ]
        }
      ]
    },
    {
      "cell_type": "code",
      "source": [
        "df_3[\"все_вместе\"] = df_3[\"все_вместе\"].replace(',', '', regex=True)"
      ],
      "metadata": {
        "colab": {
          "base_uri": "https://localhost:8080/"
        },
        "id": "cRH-aatSBCQJ",
        "outputId": "3278f203-1040-4138-a5c2-885dd7bbeaec"
      },
      "execution_count": 199,
      "outputs": [
        {
          "output_type": "stream",
          "name": "stderr",
          "text": [
            "<ipython-input-199-8f513de05390>:1: SettingWithCopyWarning: \n",
            "A value is trying to be set on a copy of a slice from a DataFrame.\n",
            "Try using .loc[row_indexer,col_indexer] = value instead\n",
            "\n",
            "See the caveats in the documentation: https://pandas.pydata.org/pandas-docs/stable/user_guide/indexing.html#returning-a-view-versus-a-copy\n",
            "  df_3[\"все_вместе\"] = df_3[\"все_вместе\"].replace(',', '', regex=True)\n"
          ]
        }
      ]
    },
    {
      "cell_type": "code",
      "source": [
        "df_3"
      ],
      "metadata": {
        "colab": {
          "base_uri": "https://localhost:8080/",
          "height": 641
        },
        "id": "5CBM0RoI8apo",
        "outputId": "3af522df-9109-44dc-cc84-e379c5e9e03e"
      },
      "execution_count": 200,
      "outputs": [
        {
          "output_type": "execute_result",
          "data": {
            "text/plain": [
              "                                                  text  \\\n",
              "0    Хотите увидеть все и сразу? Пожалуйста! Пригот...   \n",
              "1    Культурный центр «Хитровка» — сердце московско...   \n",
              "2    Откройте для себя удивительное место Москвы от...   \n",
              "3    Где Василий Поленов писал свою знаменитую карт...   \n",
              "4    С 1904 года Александровский дворец в Царском С...   \n",
              "..                                                 ...   \n",
              "453  Почему Большая Покровская всегда была главной ...   \n",
              "454  Прогуляйтесь по таинственным местам Сочи и пог...   \n",
              "455  Отправьтесь в один из крупнейших собачьих пито...   \n",
              "456  Приехать в Москву и не побывать на Красной пло...   \n",
              "457  Познакомьтесь с древним Звенигородом. Вы прогу...   \n",
              "\n",
              "                                            все_вместе  \n",
              "0                          музеи    исследовательское   \n",
              "1    местная_культура местная_культура история  исс...  \n",
              "2      история искусство_и_ театр   исследовательское   \n",
              "3    увидеть_достопримечательности    исследователь...  \n",
              "4                                   исследовательское   \n",
              "..                                                 ...  \n",
              "453    история искусство_и_ театр   исследовательское   \n",
              "454                         пляж    исследовательское   \n",
              "455                      история    исследовательское   \n",
              "456                      история    исследовательское   \n",
              "457                      история    исследовательское   \n",
              "\n",
              "[458 rows x 2 columns]"
            ],
            "text/html": [
              "\n",
              "  <div id=\"df-2e9ef17e-5dc3-49ba-a244-3900a5c366f6\">\n",
              "    <div class=\"colab-df-container\">\n",
              "      <div>\n",
              "<style scoped>\n",
              "    .dataframe tbody tr th:only-of-type {\n",
              "        vertical-align: middle;\n",
              "    }\n",
              "\n",
              "    .dataframe tbody tr th {\n",
              "        vertical-align: top;\n",
              "    }\n",
              "\n",
              "    .dataframe thead th {\n",
              "        text-align: right;\n",
              "    }\n",
              "</style>\n",
              "<table border=\"1\" class=\"dataframe\">\n",
              "  <thead>\n",
              "    <tr style=\"text-align: right;\">\n",
              "      <th></th>\n",
              "      <th>text</th>\n",
              "      <th>все_вместе</th>\n",
              "    </tr>\n",
              "  </thead>\n",
              "  <tbody>\n",
              "    <tr>\n",
              "      <th>0</th>\n",
              "      <td>Хотите увидеть все и сразу? Пожалуйста! Пригот...</td>\n",
              "      <td>музеи    исследовательское</td>\n",
              "    </tr>\n",
              "    <tr>\n",
              "      <th>1</th>\n",
              "      <td>Культурный центр «Хитровка» — сердце московско...</td>\n",
              "      <td>местная_культура местная_культура история  исс...</td>\n",
              "    </tr>\n",
              "    <tr>\n",
              "      <th>2</th>\n",
              "      <td>Откройте для себя удивительное место Москвы от...</td>\n",
              "      <td>история искусство_и_ театр   исследовательское</td>\n",
              "    </tr>\n",
              "    <tr>\n",
              "      <th>3</th>\n",
              "      <td>Где Василий Поленов писал свою знаменитую карт...</td>\n",
              "      <td>увидеть_достопримечательности    исследователь...</td>\n",
              "    </tr>\n",
              "    <tr>\n",
              "      <th>4</th>\n",
              "      <td>С 1904 года Александровский дворец в Царском С...</td>\n",
              "      <td>исследовательское</td>\n",
              "    </tr>\n",
              "    <tr>\n",
              "      <th>...</th>\n",
              "      <td>...</td>\n",
              "      <td>...</td>\n",
              "    </tr>\n",
              "    <tr>\n",
              "      <th>453</th>\n",
              "      <td>Почему Большая Покровская всегда была главной ...</td>\n",
              "      <td>история искусство_и_ театр   исследовательское</td>\n",
              "    </tr>\n",
              "    <tr>\n",
              "      <th>454</th>\n",
              "      <td>Прогуляйтесь по таинственным местам Сочи и пог...</td>\n",
              "      <td>пляж    исследовательское</td>\n",
              "    </tr>\n",
              "    <tr>\n",
              "      <th>455</th>\n",
              "      <td>Отправьтесь в один из крупнейших собачьих пито...</td>\n",
              "      <td>история    исследовательское</td>\n",
              "    </tr>\n",
              "    <tr>\n",
              "      <th>456</th>\n",
              "      <td>Приехать в Москву и не побывать на Красной пло...</td>\n",
              "      <td>история    исследовательское</td>\n",
              "    </tr>\n",
              "    <tr>\n",
              "      <th>457</th>\n",
              "      <td>Познакомьтесь с древним Звенигородом. Вы прогу...</td>\n",
              "      <td>история    исследовательское</td>\n",
              "    </tr>\n",
              "  </tbody>\n",
              "</table>\n",
              "<p>458 rows × 2 columns</p>\n",
              "</div>\n",
              "      <button class=\"colab-df-convert\" onclick=\"convertToInteractive('df-2e9ef17e-5dc3-49ba-a244-3900a5c366f6')\"\n",
              "              title=\"Convert this dataframe to an interactive table.\"\n",
              "              style=\"display:none;\">\n",
              "        \n",
              "  <svg xmlns=\"http://www.w3.org/2000/svg\" height=\"24px\"viewBox=\"0 0 24 24\"\n",
              "       width=\"24px\">\n",
              "    <path d=\"M0 0h24v24H0V0z\" fill=\"none\"/>\n",
              "    <path d=\"M18.56 5.44l.94 2.06.94-2.06 2.06-.94-2.06-.94-.94-2.06-.94 2.06-2.06.94zm-11 1L8.5 8.5l.94-2.06 2.06-.94-2.06-.94L8.5 2.5l-.94 2.06-2.06.94zm10 10l.94 2.06.94-2.06 2.06-.94-2.06-.94-.94-2.06-.94 2.06-2.06.94z\"/><path d=\"M17.41 7.96l-1.37-1.37c-.4-.4-.92-.59-1.43-.59-.52 0-1.04.2-1.43.59L10.3 9.45l-7.72 7.72c-.78.78-.78 2.05 0 2.83L4 21.41c.39.39.9.59 1.41.59.51 0 1.02-.2 1.41-.59l7.78-7.78 2.81-2.81c.8-.78.8-2.07 0-2.86zM5.41 20L4 18.59l7.72-7.72 1.47 1.35L5.41 20z\"/>\n",
              "  </svg>\n",
              "      </button>\n",
              "      \n",
              "  <style>\n",
              "    .colab-df-container {\n",
              "      display:flex;\n",
              "      flex-wrap:wrap;\n",
              "      gap: 12px;\n",
              "    }\n",
              "\n",
              "    .colab-df-convert {\n",
              "      background-color: #E8F0FE;\n",
              "      border: none;\n",
              "      border-radius: 50%;\n",
              "      cursor: pointer;\n",
              "      display: none;\n",
              "      fill: #1967D2;\n",
              "      height: 32px;\n",
              "      padding: 0 0 0 0;\n",
              "      width: 32px;\n",
              "    }\n",
              "\n",
              "    .colab-df-convert:hover {\n",
              "      background-color: #E2EBFA;\n",
              "      box-shadow: 0px 1px 2px rgba(60, 64, 67, 0.3), 0px 1px 3px 1px rgba(60, 64, 67, 0.15);\n",
              "      fill: #174EA6;\n",
              "    }\n",
              "\n",
              "    [theme=dark] .colab-df-convert {\n",
              "      background-color: #3B4455;\n",
              "      fill: #D2E3FC;\n",
              "    }\n",
              "\n",
              "    [theme=dark] .colab-df-convert:hover {\n",
              "      background-color: #434B5C;\n",
              "      box-shadow: 0px 1px 3px 1px rgba(0, 0, 0, 0.15);\n",
              "      filter: drop-shadow(0px 1px 2px rgba(0, 0, 0, 0.3));\n",
              "      fill: #FFFFFF;\n",
              "    }\n",
              "  </style>\n",
              "\n",
              "      <script>\n",
              "        const buttonEl =\n",
              "          document.querySelector('#df-2e9ef17e-5dc3-49ba-a244-3900a5c366f6 button.colab-df-convert');\n",
              "        buttonEl.style.display =\n",
              "          google.colab.kernel.accessAllowed ? 'block' : 'none';\n",
              "\n",
              "        async function convertToInteractive(key) {\n",
              "          const element = document.querySelector('#df-2e9ef17e-5dc3-49ba-a244-3900a5c366f6');\n",
              "          const dataTable =\n",
              "            await google.colab.kernel.invokeFunction('convertToInteractive',\n",
              "                                                     [key], {});\n",
              "          if (!dataTable) return;\n",
              "\n",
              "          const docLinkHtml = 'Like what you see? Visit the ' +\n",
              "            '<a target=\"_blank\" href=https://colab.research.google.com/notebooks/data_table.ipynb>data table notebook</a>'\n",
              "            + ' to learn more about interactive tables.';\n",
              "          element.innerHTML = '';\n",
              "          dataTable['output_type'] = 'display_data';\n",
              "          await google.colab.output.renderOutput(dataTable, element);\n",
              "          const docLink = document.createElement('div');\n",
              "          docLink.innerHTML = docLinkHtml;\n",
              "          element.appendChild(docLink);\n",
              "        }\n",
              "      </script>\n",
              "    </div>\n",
              "  </div>\n",
              "  "
            ]
          },
          "metadata": {},
          "execution_count": 200
        }
      ]
    },
    {
      "cell_type": "code",
      "source": [
        "df_3['все_вместе'] = df_3['все_вместе'].str.split()"
      ],
      "metadata": {
        "id": "hzMYsI6pqYT0"
      },
      "execution_count": null,
      "outputs": []
    },
    {
      "cell_type": "code",
      "source": [
        "df_3"
      ],
      "metadata": {
        "colab": {
          "base_uri": "https://localhost:8080/",
          "height": 641
        },
        "id": "QOZHj75jqjSc",
        "outputId": "8ad7cf9f-6a45-4ca9-b871-ea27cc6c2bcd"
      },
      "execution_count": 202,
      "outputs": [
        {
          "output_type": "execute_result",
          "data": {
            "text/plain": [
              "                                                  text  \\\n",
              "0    Хотите увидеть все и сразу? Пожалуйста! Пригот...   \n",
              "1    Культурный центр «Хитровка» — сердце московско...   \n",
              "2    Откройте для себя удивительное место Москвы от...   \n",
              "3    Где Василий Поленов писал свою знаменитую карт...   \n",
              "4    С 1904 года Александровский дворец в Царском С...   \n",
              "..                                                 ...   \n",
              "453  Почему Большая Покровская всегда была главной ...   \n",
              "454  Прогуляйтесь по таинственным местам Сочи и пог...   \n",
              "455  Отправьтесь в один из крупнейших собачьих пито...   \n",
              "456  Приехать в Москву и не побывать на Красной пло...   \n",
              "457  Познакомьтесь с древним Звенигородом. Вы прогу...   \n",
              "\n",
              "                                            все_вместе  \n",
              "0                           [музеи, исследовательское]  \n",
              "1    [местная_культура, местная_культура, история, ...  \n",
              "2    [история, искусство_и_, театр, исследовательское]  \n",
              "3    [увидеть_достопримечательности, исследовательс...  \n",
              "4                                  [исследовательское]  \n",
              "..                                                 ...  \n",
              "453  [история, искусство_и_, театр, исследовательское]  \n",
              "454                          [пляж, исследовательское]  \n",
              "455                       [история, исследовательское]  \n",
              "456                       [история, исследовательское]  \n",
              "457                       [история, исследовательское]  \n",
              "\n",
              "[458 rows x 2 columns]"
            ],
            "text/html": [
              "\n",
              "  <div id=\"df-4de5206f-d8fb-4c49-a949-83c49fc01742\">\n",
              "    <div class=\"colab-df-container\">\n",
              "      <div>\n",
              "<style scoped>\n",
              "    .dataframe tbody tr th:only-of-type {\n",
              "        vertical-align: middle;\n",
              "    }\n",
              "\n",
              "    .dataframe tbody tr th {\n",
              "        vertical-align: top;\n",
              "    }\n",
              "\n",
              "    .dataframe thead th {\n",
              "        text-align: right;\n",
              "    }\n",
              "</style>\n",
              "<table border=\"1\" class=\"dataframe\">\n",
              "  <thead>\n",
              "    <tr style=\"text-align: right;\">\n",
              "      <th></th>\n",
              "      <th>text</th>\n",
              "      <th>все_вместе</th>\n",
              "    </tr>\n",
              "  </thead>\n",
              "  <tbody>\n",
              "    <tr>\n",
              "      <th>0</th>\n",
              "      <td>Хотите увидеть все и сразу? Пожалуйста! Пригот...</td>\n",
              "      <td>[музеи, исследовательское]</td>\n",
              "    </tr>\n",
              "    <tr>\n",
              "      <th>1</th>\n",
              "      <td>Культурный центр «Хитровка» — сердце московско...</td>\n",
              "      <td>[местная_культура, местная_культура, история, ...</td>\n",
              "    </tr>\n",
              "    <tr>\n",
              "      <th>2</th>\n",
              "      <td>Откройте для себя удивительное место Москвы от...</td>\n",
              "      <td>[история, искусство_и_, театр, исследовательское]</td>\n",
              "    </tr>\n",
              "    <tr>\n",
              "      <th>3</th>\n",
              "      <td>Где Василий Поленов писал свою знаменитую карт...</td>\n",
              "      <td>[увидеть_достопримечательности, исследовательс...</td>\n",
              "    </tr>\n",
              "    <tr>\n",
              "      <th>4</th>\n",
              "      <td>С 1904 года Александровский дворец в Царском С...</td>\n",
              "      <td>[исследовательское]</td>\n",
              "    </tr>\n",
              "    <tr>\n",
              "      <th>...</th>\n",
              "      <td>...</td>\n",
              "      <td>...</td>\n",
              "    </tr>\n",
              "    <tr>\n",
              "      <th>453</th>\n",
              "      <td>Почему Большая Покровская всегда была главной ...</td>\n",
              "      <td>[история, искусство_и_, театр, исследовательское]</td>\n",
              "    </tr>\n",
              "    <tr>\n",
              "      <th>454</th>\n",
              "      <td>Прогуляйтесь по таинственным местам Сочи и пог...</td>\n",
              "      <td>[пляж, исследовательское]</td>\n",
              "    </tr>\n",
              "    <tr>\n",
              "      <th>455</th>\n",
              "      <td>Отправьтесь в один из крупнейших собачьих пито...</td>\n",
              "      <td>[история, исследовательское]</td>\n",
              "    </tr>\n",
              "    <tr>\n",
              "      <th>456</th>\n",
              "      <td>Приехать в Москву и не побывать на Красной пло...</td>\n",
              "      <td>[история, исследовательское]</td>\n",
              "    </tr>\n",
              "    <tr>\n",
              "      <th>457</th>\n",
              "      <td>Познакомьтесь с древним Звенигородом. Вы прогу...</td>\n",
              "      <td>[история, исследовательское]</td>\n",
              "    </tr>\n",
              "  </tbody>\n",
              "</table>\n",
              "<p>458 rows × 2 columns</p>\n",
              "</div>\n",
              "      <button class=\"colab-df-convert\" onclick=\"convertToInteractive('df-4de5206f-d8fb-4c49-a949-83c49fc01742')\"\n",
              "              title=\"Convert this dataframe to an interactive table.\"\n",
              "              style=\"display:none;\">\n",
              "        \n",
              "  <svg xmlns=\"http://www.w3.org/2000/svg\" height=\"24px\"viewBox=\"0 0 24 24\"\n",
              "       width=\"24px\">\n",
              "    <path d=\"M0 0h24v24H0V0z\" fill=\"none\"/>\n",
              "    <path d=\"M18.56 5.44l.94 2.06.94-2.06 2.06-.94-2.06-.94-.94-2.06-.94 2.06-2.06.94zm-11 1L8.5 8.5l.94-2.06 2.06-.94-2.06-.94L8.5 2.5l-.94 2.06-2.06.94zm10 10l.94 2.06.94-2.06 2.06-.94-2.06-.94-.94-2.06-.94 2.06-2.06.94z\"/><path d=\"M17.41 7.96l-1.37-1.37c-.4-.4-.92-.59-1.43-.59-.52 0-1.04.2-1.43.59L10.3 9.45l-7.72 7.72c-.78.78-.78 2.05 0 2.83L4 21.41c.39.39.9.59 1.41.59.51 0 1.02-.2 1.41-.59l7.78-7.78 2.81-2.81c.8-.78.8-2.07 0-2.86zM5.41 20L4 18.59l7.72-7.72 1.47 1.35L5.41 20z\"/>\n",
              "  </svg>\n",
              "      </button>\n",
              "      \n",
              "  <style>\n",
              "    .colab-df-container {\n",
              "      display:flex;\n",
              "      flex-wrap:wrap;\n",
              "      gap: 12px;\n",
              "    }\n",
              "\n",
              "    .colab-df-convert {\n",
              "      background-color: #E8F0FE;\n",
              "      border: none;\n",
              "      border-radius: 50%;\n",
              "      cursor: pointer;\n",
              "      display: none;\n",
              "      fill: #1967D2;\n",
              "      height: 32px;\n",
              "      padding: 0 0 0 0;\n",
              "      width: 32px;\n",
              "    }\n",
              "\n",
              "    .colab-df-convert:hover {\n",
              "      background-color: #E2EBFA;\n",
              "      box-shadow: 0px 1px 2px rgba(60, 64, 67, 0.3), 0px 1px 3px 1px rgba(60, 64, 67, 0.15);\n",
              "      fill: #174EA6;\n",
              "    }\n",
              "\n",
              "    [theme=dark] .colab-df-convert {\n",
              "      background-color: #3B4455;\n",
              "      fill: #D2E3FC;\n",
              "    }\n",
              "\n",
              "    [theme=dark] .colab-df-convert:hover {\n",
              "      background-color: #434B5C;\n",
              "      box-shadow: 0px 1px 3px 1px rgba(0, 0, 0, 0.15);\n",
              "      filter: drop-shadow(0px 1px 2px rgba(0, 0, 0, 0.3));\n",
              "      fill: #FFFFFF;\n",
              "    }\n",
              "  </style>\n",
              "\n",
              "      <script>\n",
              "        const buttonEl =\n",
              "          document.querySelector('#df-4de5206f-d8fb-4c49-a949-83c49fc01742 button.colab-df-convert');\n",
              "        buttonEl.style.display =\n",
              "          google.colab.kernel.accessAllowed ? 'block' : 'none';\n",
              "\n",
              "        async function convertToInteractive(key) {\n",
              "          const element = document.querySelector('#df-4de5206f-d8fb-4c49-a949-83c49fc01742');\n",
              "          const dataTable =\n",
              "            await google.colab.kernel.invokeFunction('convertToInteractive',\n",
              "                                                     [key], {});\n",
              "          if (!dataTable) return;\n",
              "\n",
              "          const docLinkHtml = 'Like what you see? Visit the ' +\n",
              "            '<a target=\"_blank\" href=https://colab.research.google.com/notebooks/data_table.ipynb>data table notebook</a>'\n",
              "            + ' to learn more about interactive tables.';\n",
              "          element.innerHTML = '';\n",
              "          dataTable['output_type'] = 'display_data';\n",
              "          await google.colab.output.renderOutput(dataTable, element);\n",
              "          const docLink = document.createElement('div');\n",
              "          docLink.innerHTML = docLinkHtml;\n",
              "          element.appendChild(docLink);\n",
              "        }\n",
              "      </script>\n",
              "    </div>\n",
              "  </div>\n",
              "  "
            ]
          },
          "metadata": {},
          "execution_count": 202
        }
      ]
    },
    {
      "cell_type": "markdown",
      "source": [
        "**Приводим текст к виду где все параметры выведены в столбцы и напротив текста отмечается наличие или отсутствие того или иного пораметра согласно анкете (1-есть, 0-отсутствует)**"
      ],
      "metadata": {
        "id": "HcX_3oVocgnU"
      }
    },
    {
      "cell_type": "code",
      "source": [
        "unique_values = set(df_3['все_вместе'].explode())\n",
        "for value in unique_values:\n",
        "    df_3[value] = df_3['все_вместе'].apply(lambda x: int(value in x)).astype(int)\n",
        "\n",
        "df_3.drop('все_вместе', axis=1, inplace=True)"
      ],
      "metadata": {
        "colab": {
          "base_uri": "https://localhost:8080/"
        },
        "id": "bXO1ELCSrFYN",
        "outputId": "7adb39aa-1e60-40a5-d477-cc53c6f40aad"
      },
      "execution_count": 203,
      "outputs": [
        {
          "output_type": "stream",
          "name": "stderr",
          "text": [
            "<ipython-input-203-47226d1e3f4b>:3: SettingWithCopyWarning: \n",
            "A value is trying to be set on a copy of a slice from a DataFrame.\n",
            "Try using .loc[row_indexer,col_indexer] = value instead\n",
            "\n",
            "See the caveats in the documentation: https://pandas.pydata.org/pandas-docs/stable/user_guide/indexing.html#returning-a-view-versus-a-copy\n",
            "  df_3[value] = df_3['все_вместе'].apply(lambda x: int(value in x)).astype(int)\n",
            "<ipython-input-203-47226d1e3f4b>:3: SettingWithCopyWarning: \n",
            "A value is trying to be set on a copy of a slice from a DataFrame.\n",
            "Try using .loc[row_indexer,col_indexer] = value instead\n",
            "\n",
            "See the caveats in the documentation: https://pandas.pydata.org/pandas-docs/stable/user_guide/indexing.html#returning-a-view-versus-a-copy\n",
            "  df_3[value] = df_3['все_вместе'].apply(lambda x: int(value in x)).astype(int)\n",
            "<ipython-input-203-47226d1e3f4b>:3: SettingWithCopyWarning: \n",
            "A value is trying to be set on a copy of a slice from a DataFrame.\n",
            "Try using .loc[row_indexer,col_indexer] = value instead\n",
            "\n",
            "See the caveats in the documentation: https://pandas.pydata.org/pandas-docs/stable/user_guide/indexing.html#returning-a-view-versus-a-copy\n",
            "  df_3[value] = df_3['все_вместе'].apply(lambda x: int(value in x)).astype(int)\n",
            "<ipython-input-203-47226d1e3f4b>:3: SettingWithCopyWarning: \n",
            "A value is trying to be set on a copy of a slice from a DataFrame.\n",
            "Try using .loc[row_indexer,col_indexer] = value instead\n",
            "\n",
            "See the caveats in the documentation: https://pandas.pydata.org/pandas-docs/stable/user_guide/indexing.html#returning-a-view-versus-a-copy\n",
            "  df_3[value] = df_3['все_вместе'].apply(lambda x: int(value in x)).astype(int)\n",
            "<ipython-input-203-47226d1e3f4b>:3: SettingWithCopyWarning: \n",
            "A value is trying to be set on a copy of a slice from a DataFrame.\n",
            "Try using .loc[row_indexer,col_indexer] = value instead\n",
            "\n",
            "See the caveats in the documentation: https://pandas.pydata.org/pandas-docs/stable/user_guide/indexing.html#returning-a-view-versus-a-copy\n",
            "  df_3[value] = df_3['все_вместе'].apply(lambda x: int(value in x)).astype(int)\n"
          ]
        }
      ]
    },
    {
      "cell_type": "code",
      "source": [
        "df_3"
      ],
      "metadata": {
        "colab": {
          "base_uri": "https://localhost:8080/",
          "height": 1000
        },
        "id": "dTT0FCc1rRR2",
        "outputId": "7265a459-a11d-4869-ba5c-d6299163ac0a"
      },
      "execution_count": 204,
      "outputs": [
        {
          "output_type": "execute_result",
          "data": {
            "text/plain": [
              "                                                  text  люкс  ночные_клубы  \\\n",
              "0    Хотите увидеть все и сразу? Пожалуйста! Пригот...     0             0   \n",
              "1    Культурный центр «Хитровка» — сердце московско...     0             0   \n",
              "2    Откройте для себя удивительное место Москвы от...     0             0   \n",
              "3    Где Василий Поленов писал свою знаменитую карт...     0             0   \n",
              "4    С 1904 года Александровский дворец в Царском С...     0             0   \n",
              "..                                                 ...   ...           ...   \n",
              "453  Почему Большая Покровская всегда была главной ...     0             0   \n",
              "454  Прогуляйтесь по таинственным местам Сочи и пог...     0             0   \n",
              "455  Отправьтесь в один из крупнейших собачьих пито...     0             0   \n",
              "456  Приехать в Москву и не побывать на Красной пло...     0             0   \n",
              "457  Познакомьтесь с древним Звенигородом. Вы прогу...     0             0   \n",
              "\n",
              "     увидеть_достопримечательности  пляж  исследовательское  \\\n",
              "0                                0     0                  1   \n",
              "1                                0     0                  1   \n",
              "2                                0     0                  1   \n",
              "3                                1     0                  1   \n",
              "4                                0     0                  1   \n",
              "..                             ...   ...                ...   \n",
              "453                              0     0                  1   \n",
              "454                              0     1                  1   \n",
              "455                              0     0                  1   \n",
              "456                              0     0                  1   \n",
              "457                              0     0                  1   \n",
              "\n",
              "     коренные_народы_и_традиции  искусство_и_  экстремальное  музеи  ...  \\\n",
              "0                             0             0              0      1  ...   \n",
              "1                             0             0              0      0  ...   \n",
              "2                             0             1              0      0  ...   \n",
              "3                             0             0              0      0  ...   \n",
              "4                             0             0              0      0  ...   \n",
              "..                          ...           ...            ...    ...  ...   \n",
              "453                           0             1              0      0  ...   \n",
              "454                           0             0              0      0  ...   \n",
              "455                           0             0              0      0  ...   \n",
              "456                           0             0              0      0  ...   \n",
              "457                           0             0              0      0  ...   \n",
              "\n",
              "     романтическое  местное_пиво  глухомань  экологичное_потребление  \\\n",
              "0                0             0          0                        0   \n",
              "1                0             0          0                        0   \n",
              "2                0             0          0                        0   \n",
              "3                0             0          0                        0   \n",
              "4                0             0          0                        0   \n",
              "..             ...           ...        ...                      ...   \n",
              "453              0             0          0                        0   \n",
              "454              0             0          0                        0   \n",
              "455              0             0          0                        0   \n",
              "456              0             0          0                        0   \n",
              "457              0             0          0                        0   \n",
              "\n",
              "     местная_культура  в_поисках_чудес  приключения_и_экстрим  наука  сафари  \\\n",
              "0                   0                0                      0      0       0   \n",
              "1                   1                0                      0      0       0   \n",
              "2                   0                0                      0      0       0   \n",
              "3                   0                0                      0      0       0   \n",
              "4                   0                0                      0      0       0   \n",
              "..                ...              ...                    ...    ...     ...   \n",
              "453                 0                0                      0      0       0   \n",
              "454                 0                0                      0      0       0   \n",
              "455                 0                0                      0      0       0   \n",
              "456                 0                0                      0      0       0   \n",
              "457                 0                0                      0      0       0   \n",
              "\n",
              "     театр  \n",
              "0        0  \n",
              "1        0  \n",
              "2        1  \n",
              "3        0  \n",
              "4        0  \n",
              "..     ...  \n",
              "453      1  \n",
              "454      0  \n",
              "455      0  \n",
              "456      0  \n",
              "457      0  \n",
              "\n",
              "[458 rows x 27 columns]"
            ],
            "text/html": [
              "\n",
              "  <div id=\"df-8c689e81-834b-4db1-804d-d8a0dcd82b88\">\n",
              "    <div class=\"colab-df-container\">\n",
              "      <div>\n",
              "<style scoped>\n",
              "    .dataframe tbody tr th:only-of-type {\n",
              "        vertical-align: middle;\n",
              "    }\n",
              "\n",
              "    .dataframe tbody tr th {\n",
              "        vertical-align: top;\n",
              "    }\n",
              "\n",
              "    .dataframe thead th {\n",
              "        text-align: right;\n",
              "    }\n",
              "</style>\n",
              "<table border=\"1\" class=\"dataframe\">\n",
              "  <thead>\n",
              "    <tr style=\"text-align: right;\">\n",
              "      <th></th>\n",
              "      <th>text</th>\n",
              "      <th>люкс</th>\n",
              "      <th>ночные_клубы</th>\n",
              "      <th>увидеть_достопримечательности</th>\n",
              "      <th>пляж</th>\n",
              "      <th>исследовательское</th>\n",
              "      <th>коренные_народы_и_традиции</th>\n",
              "      <th>искусство_и_</th>\n",
              "      <th>экстремальное</th>\n",
              "      <th>музеи</th>\n",
              "      <th>...</th>\n",
              "      <th>романтическое</th>\n",
              "      <th>местное_пиво</th>\n",
              "      <th>глухомань</th>\n",
              "      <th>экологичное_потребление</th>\n",
              "      <th>местная_культура</th>\n",
              "      <th>в_поисках_чудес</th>\n",
              "      <th>приключения_и_экстрим</th>\n",
              "      <th>наука</th>\n",
              "      <th>сафари</th>\n",
              "      <th>театр</th>\n",
              "    </tr>\n",
              "  </thead>\n",
              "  <tbody>\n",
              "    <tr>\n",
              "      <th>0</th>\n",
              "      <td>Хотите увидеть все и сразу? Пожалуйста! Пригот...</td>\n",
              "      <td>0</td>\n",
              "      <td>0</td>\n",
              "      <td>0</td>\n",
              "      <td>0</td>\n",
              "      <td>1</td>\n",
              "      <td>0</td>\n",
              "      <td>0</td>\n",
              "      <td>0</td>\n",
              "      <td>1</td>\n",
              "      <td>...</td>\n",
              "      <td>0</td>\n",
              "      <td>0</td>\n",
              "      <td>0</td>\n",
              "      <td>0</td>\n",
              "      <td>0</td>\n",
              "      <td>0</td>\n",
              "      <td>0</td>\n",
              "      <td>0</td>\n",
              "      <td>0</td>\n",
              "      <td>0</td>\n",
              "    </tr>\n",
              "    <tr>\n",
              "      <th>1</th>\n",
              "      <td>Культурный центр «Хитровка» — сердце московско...</td>\n",
              "      <td>0</td>\n",
              "      <td>0</td>\n",
              "      <td>0</td>\n",
              "      <td>0</td>\n",
              "      <td>1</td>\n",
              "      <td>0</td>\n",
              "      <td>0</td>\n",
              "      <td>0</td>\n",
              "      <td>0</td>\n",
              "      <td>...</td>\n",
              "      <td>0</td>\n",
              "      <td>0</td>\n",
              "      <td>0</td>\n",
              "      <td>0</td>\n",
              "      <td>1</td>\n",
              "      <td>0</td>\n",
              "      <td>0</td>\n",
              "      <td>0</td>\n",
              "      <td>0</td>\n",
              "      <td>0</td>\n",
              "    </tr>\n",
              "    <tr>\n",
              "      <th>2</th>\n",
              "      <td>Откройте для себя удивительное место Москвы от...</td>\n",
              "      <td>0</td>\n",
              "      <td>0</td>\n",
              "      <td>0</td>\n",
              "      <td>0</td>\n",
              "      <td>1</td>\n",
              "      <td>0</td>\n",
              "      <td>1</td>\n",
              "      <td>0</td>\n",
              "      <td>0</td>\n",
              "      <td>...</td>\n",
              "      <td>0</td>\n",
              "      <td>0</td>\n",
              "      <td>0</td>\n",
              "      <td>0</td>\n",
              "      <td>0</td>\n",
              "      <td>0</td>\n",
              "      <td>0</td>\n",
              "      <td>0</td>\n",
              "      <td>0</td>\n",
              "      <td>1</td>\n",
              "    </tr>\n",
              "    <tr>\n",
              "      <th>3</th>\n",
              "      <td>Где Василий Поленов писал свою знаменитую карт...</td>\n",
              "      <td>0</td>\n",
              "      <td>0</td>\n",
              "      <td>1</td>\n",
              "      <td>0</td>\n",
              "      <td>1</td>\n",
              "      <td>0</td>\n",
              "      <td>0</td>\n",
              "      <td>0</td>\n",
              "      <td>0</td>\n",
              "      <td>...</td>\n",
              "      <td>0</td>\n",
              "      <td>0</td>\n",
              "      <td>0</td>\n",
              "      <td>0</td>\n",
              "      <td>0</td>\n",
              "      <td>0</td>\n",
              "      <td>0</td>\n",
              "      <td>0</td>\n",
              "      <td>0</td>\n",
              "      <td>0</td>\n",
              "    </tr>\n",
              "    <tr>\n",
              "      <th>4</th>\n",
              "      <td>С 1904 года Александровский дворец в Царском С...</td>\n",
              "      <td>0</td>\n",
              "      <td>0</td>\n",
              "      <td>0</td>\n",
              "      <td>0</td>\n",
              "      <td>1</td>\n",
              "      <td>0</td>\n",
              "      <td>0</td>\n",
              "      <td>0</td>\n",
              "      <td>0</td>\n",
              "      <td>...</td>\n",
              "      <td>0</td>\n",
              "      <td>0</td>\n",
              "      <td>0</td>\n",
              "      <td>0</td>\n",
              "      <td>0</td>\n",
              "      <td>0</td>\n",
              "      <td>0</td>\n",
              "      <td>0</td>\n",
              "      <td>0</td>\n",
              "      <td>0</td>\n",
              "    </tr>\n",
              "    <tr>\n",
              "      <th>...</th>\n",
              "      <td>...</td>\n",
              "      <td>...</td>\n",
              "      <td>...</td>\n",
              "      <td>...</td>\n",
              "      <td>...</td>\n",
              "      <td>...</td>\n",
              "      <td>...</td>\n",
              "      <td>...</td>\n",
              "      <td>...</td>\n",
              "      <td>...</td>\n",
              "      <td>...</td>\n",
              "      <td>...</td>\n",
              "      <td>...</td>\n",
              "      <td>...</td>\n",
              "      <td>...</td>\n",
              "      <td>...</td>\n",
              "      <td>...</td>\n",
              "      <td>...</td>\n",
              "      <td>...</td>\n",
              "      <td>...</td>\n",
              "      <td>...</td>\n",
              "    </tr>\n",
              "    <tr>\n",
              "      <th>453</th>\n",
              "      <td>Почему Большая Покровская всегда была главной ...</td>\n",
              "      <td>0</td>\n",
              "      <td>0</td>\n",
              "      <td>0</td>\n",
              "      <td>0</td>\n",
              "      <td>1</td>\n",
              "      <td>0</td>\n",
              "      <td>1</td>\n",
              "      <td>0</td>\n",
              "      <td>0</td>\n",
              "      <td>...</td>\n",
              "      <td>0</td>\n",
              "      <td>0</td>\n",
              "      <td>0</td>\n",
              "      <td>0</td>\n",
              "      <td>0</td>\n",
              "      <td>0</td>\n",
              "      <td>0</td>\n",
              "      <td>0</td>\n",
              "      <td>0</td>\n",
              "      <td>1</td>\n",
              "    </tr>\n",
              "    <tr>\n",
              "      <th>454</th>\n",
              "      <td>Прогуляйтесь по таинственным местам Сочи и пог...</td>\n",
              "      <td>0</td>\n",
              "      <td>0</td>\n",
              "      <td>0</td>\n",
              "      <td>1</td>\n",
              "      <td>1</td>\n",
              "      <td>0</td>\n",
              "      <td>0</td>\n",
              "      <td>0</td>\n",
              "      <td>0</td>\n",
              "      <td>...</td>\n",
              "      <td>0</td>\n",
              "      <td>0</td>\n",
              "      <td>0</td>\n",
              "      <td>0</td>\n",
              "      <td>0</td>\n",
              "      <td>0</td>\n",
              "      <td>0</td>\n",
              "      <td>0</td>\n",
              "      <td>0</td>\n",
              "      <td>0</td>\n",
              "    </tr>\n",
              "    <tr>\n",
              "      <th>455</th>\n",
              "      <td>Отправьтесь в один из крупнейших собачьих пито...</td>\n",
              "      <td>0</td>\n",
              "      <td>0</td>\n",
              "      <td>0</td>\n",
              "      <td>0</td>\n",
              "      <td>1</td>\n",
              "      <td>0</td>\n",
              "      <td>0</td>\n",
              "      <td>0</td>\n",
              "      <td>0</td>\n",
              "      <td>...</td>\n",
              "      <td>0</td>\n",
              "      <td>0</td>\n",
              "      <td>0</td>\n",
              "      <td>0</td>\n",
              "      <td>0</td>\n",
              "      <td>0</td>\n",
              "      <td>0</td>\n",
              "      <td>0</td>\n",
              "      <td>0</td>\n",
              "      <td>0</td>\n",
              "    </tr>\n",
              "    <tr>\n",
              "      <th>456</th>\n",
              "      <td>Приехать в Москву и не побывать на Красной пло...</td>\n",
              "      <td>0</td>\n",
              "      <td>0</td>\n",
              "      <td>0</td>\n",
              "      <td>0</td>\n",
              "      <td>1</td>\n",
              "      <td>0</td>\n",
              "      <td>0</td>\n",
              "      <td>0</td>\n",
              "      <td>0</td>\n",
              "      <td>...</td>\n",
              "      <td>0</td>\n",
              "      <td>0</td>\n",
              "      <td>0</td>\n",
              "      <td>0</td>\n",
              "      <td>0</td>\n",
              "      <td>0</td>\n",
              "      <td>0</td>\n",
              "      <td>0</td>\n",
              "      <td>0</td>\n",
              "      <td>0</td>\n",
              "    </tr>\n",
              "    <tr>\n",
              "      <th>457</th>\n",
              "      <td>Познакомьтесь с древним Звенигородом. Вы прогу...</td>\n",
              "      <td>0</td>\n",
              "      <td>0</td>\n",
              "      <td>0</td>\n",
              "      <td>0</td>\n",
              "      <td>1</td>\n",
              "      <td>0</td>\n",
              "      <td>0</td>\n",
              "      <td>0</td>\n",
              "      <td>0</td>\n",
              "      <td>...</td>\n",
              "      <td>0</td>\n",
              "      <td>0</td>\n",
              "      <td>0</td>\n",
              "      <td>0</td>\n",
              "      <td>0</td>\n",
              "      <td>0</td>\n",
              "      <td>0</td>\n",
              "      <td>0</td>\n",
              "      <td>0</td>\n",
              "      <td>0</td>\n",
              "    </tr>\n",
              "  </tbody>\n",
              "</table>\n",
              "<p>458 rows × 27 columns</p>\n",
              "</div>\n",
              "      <button class=\"colab-df-convert\" onclick=\"convertToInteractive('df-8c689e81-834b-4db1-804d-d8a0dcd82b88')\"\n",
              "              title=\"Convert this dataframe to an interactive table.\"\n",
              "              style=\"display:none;\">\n",
              "        \n",
              "  <svg xmlns=\"http://www.w3.org/2000/svg\" height=\"24px\"viewBox=\"0 0 24 24\"\n",
              "       width=\"24px\">\n",
              "    <path d=\"M0 0h24v24H0V0z\" fill=\"none\"/>\n",
              "    <path d=\"M18.56 5.44l.94 2.06.94-2.06 2.06-.94-2.06-.94-.94-2.06-.94 2.06-2.06.94zm-11 1L8.5 8.5l.94-2.06 2.06-.94-2.06-.94L8.5 2.5l-.94 2.06-2.06.94zm10 10l.94 2.06.94-2.06 2.06-.94-2.06-.94-.94-2.06-.94 2.06-2.06.94z\"/><path d=\"M17.41 7.96l-1.37-1.37c-.4-.4-.92-.59-1.43-.59-.52 0-1.04.2-1.43.59L10.3 9.45l-7.72 7.72c-.78.78-.78 2.05 0 2.83L4 21.41c.39.39.9.59 1.41.59.51 0 1.02-.2 1.41-.59l7.78-7.78 2.81-2.81c.8-.78.8-2.07 0-2.86zM5.41 20L4 18.59l7.72-7.72 1.47 1.35L5.41 20z\"/>\n",
              "  </svg>\n",
              "      </button>\n",
              "      \n",
              "  <style>\n",
              "    .colab-df-container {\n",
              "      display:flex;\n",
              "      flex-wrap:wrap;\n",
              "      gap: 12px;\n",
              "    }\n",
              "\n",
              "    .colab-df-convert {\n",
              "      background-color: #E8F0FE;\n",
              "      border: none;\n",
              "      border-radius: 50%;\n",
              "      cursor: pointer;\n",
              "      display: none;\n",
              "      fill: #1967D2;\n",
              "      height: 32px;\n",
              "      padding: 0 0 0 0;\n",
              "      width: 32px;\n",
              "    }\n",
              "\n",
              "    .colab-df-convert:hover {\n",
              "      background-color: #E2EBFA;\n",
              "      box-shadow: 0px 1px 2px rgba(60, 64, 67, 0.3), 0px 1px 3px 1px rgba(60, 64, 67, 0.15);\n",
              "      fill: #174EA6;\n",
              "    }\n",
              "\n",
              "    [theme=dark] .colab-df-convert {\n",
              "      background-color: #3B4455;\n",
              "      fill: #D2E3FC;\n",
              "    }\n",
              "\n",
              "    [theme=dark] .colab-df-convert:hover {\n",
              "      background-color: #434B5C;\n",
              "      box-shadow: 0px 1px 3px 1px rgba(0, 0, 0, 0.15);\n",
              "      filter: drop-shadow(0px 1px 2px rgba(0, 0, 0, 0.3));\n",
              "      fill: #FFFFFF;\n",
              "    }\n",
              "  </style>\n",
              "\n",
              "      <script>\n",
              "        const buttonEl =\n",
              "          document.querySelector('#df-8c689e81-834b-4db1-804d-d8a0dcd82b88 button.colab-df-convert');\n",
              "        buttonEl.style.display =\n",
              "          google.colab.kernel.accessAllowed ? 'block' : 'none';\n",
              "\n",
              "        async function convertToInteractive(key) {\n",
              "          const element = document.querySelector('#df-8c689e81-834b-4db1-804d-d8a0dcd82b88');\n",
              "          const dataTable =\n",
              "            await google.colab.kernel.invokeFunction('convertToInteractive',\n",
              "                                                     [key], {});\n",
              "          if (!dataTable) return;\n",
              "\n",
              "          const docLinkHtml = 'Like what you see? Visit the ' +\n",
              "            '<a target=\"_blank\" href=https://colab.research.google.com/notebooks/data_table.ipynb>data table notebook</a>'\n",
              "            + ' to learn more about interactive tables.';\n",
              "          element.innerHTML = '';\n",
              "          dataTable['output_type'] = 'display_data';\n",
              "          await google.colab.output.renderOutput(dataTable, element);\n",
              "          const docLink = document.createElement('div');\n",
              "          docLink.innerHTML = docLinkHtml;\n",
              "          element.appendChild(docLink);\n",
              "        }\n",
              "      </script>\n",
              "    </div>\n",
              "  </div>\n",
              "  "
            ]
          },
          "metadata": {},
          "execution_count": 204
        }
      ]
    },
    {
      "cell_type": "code",
      "source": [
        "df_3 = df_3.replace('искусство_и_', 'искусство_и_театр', regex=True)"
      ],
      "metadata": {
        "id": "sHtft9rjEeIy"
      },
      "execution_count": 205,
      "outputs": []
    },
    {
      "cell_type": "code",
      "source": [
        "col = df_3.columns.tolist()"
      ],
      "metadata": {
        "id": "9I2mAw0S8j44"
      },
      "execution_count": 206,
      "outputs": []
    },
    {
      "cell_type": "code",
      "source": [
        "col"
      ],
      "metadata": {
        "colab": {
          "base_uri": "https://localhost:8080/"
        },
        "id": "gFu1ooED82HR",
        "outputId": "d57976db-323e-4b07-ddc1-e942f417d94e"
      },
      "execution_count": 207,
      "outputs": [
        {
          "output_type": "execute_result",
          "data": {
            "text/plain": [
              "['text',\n",
              " 'люкс',\n",
              " 'ночные_клубы',\n",
              " 'увидеть_достопримечательности',\n",
              " 'пляж',\n",
              " 'исследовательское',\n",
              " 'коренные_народы_и_традиции',\n",
              " 'искусство_и_',\n",
              " 'экстремальное',\n",
              " 'музеи',\n",
              " 'спортивные_события',\n",
              " 'шоппинг',\n",
              " 'вина',\n",
              " 'быстрый_темп',\n",
              " 'история',\n",
              " 'духовное',\n",
              " 'релакс',\n",
              " 'романтическое',\n",
              " 'местное_пиво',\n",
              " 'глухомань',\n",
              " 'экологичное_потребление',\n",
              " 'местная_культура',\n",
              " 'в_поисках_чудес',\n",
              " 'приключения_и_экстрим',\n",
              " 'наука',\n",
              " 'сафари',\n",
              " 'театр']"
            ]
          },
          "metadata": {},
          "execution_count": 207
        }
      ]
    },
    {
      "cell_type": "code",
      "source": [
        "params = df_3.columns[1:].tolist()\n",
        "\n",
        "# Создайте столбец \"y_train\" с векторами из 1 и 0\n",
        "df_3['y_train'] = df_3[params].apply(lambda row: row.values.tolist(), axis=1)\n",
        "\n",
        "# Преобразуйте столбец \"y_train\" в массив numpy\n",
        "y_train_array = np.array(df_3['y_train'].values.tolist())\n",
        "\n",
        "print(df_3['y_train'])\n",
        "print(y_train_array.shape)"
      ],
      "metadata": {
        "colab": {
          "base_uri": "https://localhost:8080/"
        },
        "id": "KKAqKnYcu3qJ",
        "outputId": "a6e514f0-a53b-492c-ec08-f47aa3e00286"
      },
      "execution_count": 208,
      "outputs": [
        {
          "output_type": "stream",
          "name": "stdout",
          "text": [
            "0      [0, 0, 0, 0, 1, 0, 0, 0, 1, 0, 0, 0, 0, 0, 0, ...\n",
            "1      [0, 0, 0, 0, 1, 0, 0, 0, 0, 0, 0, 0, 0, 1, 0, ...\n",
            "2      [0, 0, 0, 0, 1, 0, 1, 0, 0, 0, 0, 0, 0, 1, 0, ...\n",
            "3      [0, 0, 1, 0, 1, 0, 0, 0, 0, 0, 0, 0, 0, 0, 0, ...\n",
            "4      [0, 0, 0, 0, 1, 0, 0, 0, 0, 0, 0, 0, 0, 0, 0, ...\n",
            "                             ...                        \n",
            "453    [0, 0, 0, 0, 1, 0, 1, 0, 0, 0, 0, 0, 0, 1, 0, ...\n",
            "454    [0, 0, 0, 1, 1, 0, 0, 0, 0, 0, 0, 0, 0, 0, 0, ...\n",
            "455    [0, 0, 0, 0, 1, 0, 0, 0, 0, 0, 0, 0, 0, 1, 0, ...\n",
            "456    [0, 0, 0, 0, 1, 0, 0, 0, 0, 0, 0, 0, 0, 1, 0, ...\n",
            "457    [0, 0, 0, 0, 1, 0, 0, 0, 0, 0, 0, 0, 0, 1, 0, ...\n",
            "Name: y_train, Length: 458, dtype: object\n",
            "(458, 26)\n"
          ]
        }
      ]
    },
    {
      "cell_type": "code",
      "source": [
        "len(params)"
      ],
      "metadata": {
        "colab": {
          "base_uri": "https://localhost:8080/"
        },
        "id": "2NG0U7Juyloa",
        "outputId": "37601e50-2730-4386-9150-48f0b528f347"
      },
      "execution_count": 209,
      "outputs": [
        {
          "output_type": "execute_result",
          "data": {
            "text/plain": [
              "26"
            ]
          },
          "metadata": {},
          "execution_count": 209
        }
      ]
    },
    {
      "cell_type": "code",
      "source": [
        "from nltk.corpus import stopwords\n",
        "from nltk.stem import WordNetLemmatizer\n",
        "\n",
        "# Загрузка стоп-слов и инициализация лемматизатора\n",
        "stop_words = set(stopwords.words('russian'))\n",
        "lemmatizer = WordNetLemmatizer()\n",
        "\n",
        "# Функция для очистки и лемматизации текста\n",
        "def clean_and_lemmatize_text(text):\n",
        "    # Удаление лишних символов и приведение к нижнему регистру\n",
        "    text = re.sub(r'<.*?>', '', text)\n",
        "    text = re.sub(r'[^а-яА-Я]', ' ', text.lower())\n",
        "    \n",
        "    # Токенизация текста на отдельные слова\n",
        "    words = text.split()\n",
        "    \n",
        "    # Удаление стоп-слов и лемматизация слов\n",
        "    words = [lemmatizer.lemmatize(word) for word in words if word not in stop_words]\n",
        "    \n",
        "    # Соединение слов обратно в текст\n",
        "    cleaned_text = ' '.join(words)\n",
        "    \n",
        "    return cleaned_text\n",
        "\n",
        "# Применение функции к столбцу \"Description\" в DataFrame\n",
        "df_3['text'] = df_3['text'].apply(clean_and_lemmatize_text)"
      ],
      "metadata": {
        "id": "j4_Q23TFGZx4"
      },
      "execution_count": 212,
      "outputs": []
    },
    {
      "cell_type": "code",
      "source": [
        "text = df_3.loc[0, 'text']\n",
        "print(text)"
      ],
      "metadata": {
        "colab": {
          "base_uri": "https://localhost:8080/"
        },
        "id": "Zwms_7ZZGkxf",
        "outputId": "911cc1f1-ed12-4e3d-8886-e9db49745c48"
      },
      "execution_count": 214,
      "outputs": [
        {
          "output_type": "stream",
          "name": "stdout",
          "text": [
            "хотите увидеть сразу пожалуйста приготовьтесь насыщенному дню нижнем новгороде изучить достопримечательности такое короткое время очень непросто попробовать улицы города увлекут захватывающее путешествие стоит одна покровка это настоящий музей открытым небом стоит множество скульптур творят уличные художники публика прогуливается рассматривая затейливые здания дополнит экскурсию нижнему новгороду поездка ближайших городков полный провинциального очарования\n"
          ]
        }
      ]
    },
    {
      "cell_type": "markdown",
      "source": [
        "# **Токенезируем текст**"
      ],
      "metadata": {
        "id": "IX1pqWBJEdZ-"
      }
    },
    {
      "cell_type": "code",
      "source": [
        "from nltk.tokenize import word_tokenize\n",
        "from tensorflow.keras.preprocessing.text import Tokenizer\n",
        "from tensorflow.keras.preprocessing.sequence import pad_sequences"
      ],
      "metadata": {
        "id": "fL9jMEppHJ7K"
      },
      "execution_count": 216,
      "outputs": []
    },
    {
      "cell_type": "code",
      "source": [
        "texts=df_3[\"text\"]\n",
        "print(\"пример текста\")\n",
        "print(\"----------------------------\")\n",
        "print(texts[0])\n",
        "print(\"----------------------------\")\n",
        "print(\"\")\n",
        "tokenized_text = [word_tokenize(text) for text in texts]\n",
        "\n",
        "# Определение максимальной длины последовательности\n",
        "max_sequence_length = max(len(seq) for seq in tokenized_text)\n",
        "maxWordsCount = 10000 \n",
        "tokenizer = Tokenizer(num_words=maxWordsCount, filters='\\[[^\\]]+\\]|\\w|\\d\\!\"#$%&()*+,-–—./:;<=>?@[\\]^_`{|}~\\t\\n\\xa0\\_x000D_', lower=True, split=' ', oov_token='unknown', char_level=False)\n",
        "tokenizer.fit_on_texts(texts)\n",
        "\n",
        "#преобразуем текст в индексы\n",
        "print(\"пример индексов\")\n",
        "print(\"----------------------------\")\n",
        "texts_indexes = tokenizer.texts_to_sequences(texts)\n",
        "print(texts_indexes[0])\n",
        "print(\"----------------------------\")\n",
        "print(\"\")\n",
        "print(\"пример матрицы\")\n",
        "print(\"----------------------------\")\n",
        "texts_matrix = pad_sequences(texts_indexes, maxlen=max_sequence_length)\n",
        "print(\"размер матрицы\",texts_matrix.shape)\n",
        "print(texts_matrix[0])\n",
        "print(\"----------------------------\")\n",
        "print(\"\")\n",
        "\n",
        "# Размерность входного слоя Embedding\n",
        "embedding_dim = 300  # Например, можно выбрать размерность 100\n",
        "\n",
        "print(\"Размерность эмбеддинга (output_dim):\", embedding_dim)\n",
        "print(\"Максимальная длина последовательности (input_length):\", max_sequence_length)"
      ],
      "metadata": {
        "colab": {
          "base_uri": "https://localhost:8080/"
        },
        "id": "xWTBU60ew6-R",
        "outputId": "6ef64508-710f-4c11-d9fa-d72668cb46d3"
      },
      "execution_count": 217,
      "outputs": [
        {
          "output_type": "stream",
          "name": "stdout",
          "text": [
            "пример текста\n",
            "----------------------------\n",
            "хотите увидеть сразу пожалуйста приготовьтесь насыщенному дню нижнем новгороде изучить достопримечательности такое короткое время очень непросто попробовать улицы города увлекут захватывающее путешествие стоит одна покровка это настоящий музей открытым небом стоит множество скульптур творят уличные художники публика прогуливается рассматривая затейливые здания дополнит экскурсию нижнему новгороду поездка ближайших городков полный провинциального очарования\n",
            "----------------------------\n",
            "\n",
            "пример индексов\n",
            "----------------------------\n",
            "[167, 23, 1837, 3192, 3193, 3194, 3195, 1262, 1263, 714, 104, 311, 3196, 14, 939, 3197, 312, 114, 6, 3198, 1838, 34, 417, 313, 3199, 13, 168, 121, 279, 280, 417, 46, 715, 3200, 1264, 940, 3201, 3202, 3203, 1839, 66, 941, 9, 716, 1265, 1266, 1840, 3204, 1267, 3205, 3206]\n",
            "----------------------------\n",
            "\n",
            "пример матрицы\n",
            "----------------------------\n",
            "размер матрицы (458, 120)\n",
            "[   0    0    0    0    0    0    0    0    0    0    0    0    0    0\n",
            "    0    0    0    0    0    0    0    0    0    0    0    0    0    0\n",
            "    0    0    0    0    0    0    0    0    0    0    0    0    0    0\n",
            "    0    0    0    0    0    0    0    0    0    0    0    0    0    0\n",
            "    0    0    0    0    0    0    0    0    0    0    0    0    0  167\n",
            "   23 1837 3192 3193 3194 3195 1262 1263  714  104  311 3196   14  939\n",
            " 3197  312  114    6 3198 1838   34  417  313 3199   13  168  121  279\n",
            "  280  417   46  715 3200 1264  940 3201 3202 3203 1839   66  941    9\n",
            "  716 1265 1266 1840 3204 1267 3205 3206]\n",
            "----------------------------\n",
            "\n",
            "Размерность эмбеддинга (output_dim): 300\n",
            "Максимальная длина последовательности (input_length): 120\n"
          ]
        }
      ]
    },
    {
      "cell_type": "code",
      "source": [
        "num_classes=26"
      ],
      "metadata": {
        "id": "y1EDeBGox7Ui"
      },
      "execution_count": 224,
      "outputs": []
    },
    {
      "cell_type": "code",
      "source": [
        "texts_matrix.shape"
      ],
      "metadata": {
        "colab": {
          "base_uri": "https://localhost:8080/"
        },
        "id": "-JRhr8PEFgGF",
        "outputId": "44fb4adc-b21f-4230-990c-19d206a9b275"
      },
      "execution_count": 219,
      "outputs": [
        {
          "output_type": "execute_result",
          "data": {
            "text/plain": [
              "(458, 120)"
            ]
          },
          "metadata": {},
          "execution_count": 219
        }
      ]
    },
    {
      "cell_type": "code",
      "source": [
        "y_train_array.shape"
      ],
      "metadata": {
        "colab": {
          "base_uri": "https://localhost:8080/"
        },
        "id": "pKvYUINCFj-b",
        "outputId": "c48b06dd-5992-41d3-866a-f28c4fa24db9"
      },
      "execution_count": 220,
      "outputs": [
        {
          "output_type": "execute_result",
          "data": {
            "text/plain": [
              "(458, 26)"
            ]
          },
          "metadata": {},
          "execution_count": 220
        }
      ]
    },
    {
      "cell_type": "markdown",
      "source": [
        "# **Создаем тестовую выборку для проверки**"
      ],
      "metadata": {
        "id": "XfYGHVtblGwr"
      }
    },
    {
      "cell_type": "code",
      "source": [
        "x_train, x_test, y_train, y_test = train_test_split(texts_matrix, y_train_array, test_size=0.06, random_state=42)\n",
        "\n",
        "print(\"Размер обучающей выборки:\", x_train.shape)\n",
        "print(\"Размер тестовой выборки:\", x_test.shape)"
      ],
      "metadata": {
        "colab": {
          "base_uri": "https://localhost:8080/"
        },
        "id": "Z7KC_Ssnf-An",
        "outputId": "a7aca49c-497f-4df3-8aa4-842cda293d30"
      },
      "execution_count": 245,
      "outputs": [
        {
          "output_type": "stream",
          "name": "stdout",
          "text": [
            "Размер обучающей выборки: (430, 120)\n",
            "Размер тестовой выборки: (28, 120)\n"
          ]
        }
      ]
    },
    {
      "cell_type": "markdown",
      "source": [
        "# **Обучаем модель**"
      ],
      "metadata": {
        "id": "XYnIoV6pcb93"
      }
    },
    {
      "cell_type": "code",
      "source": [
        "model = Sequential()\n",
        "model.add(Embedding(input_dim=maxWordsCount, output_dim=embedding_dim, input_length=max_sequence_length))\n",
        "model.add(LSTM(units=128, return_sequences=True))\n",
        "model.add(BatchNormalization())\n",
        "model.add(Dropout(0.2))\n",
        "model.add(Flatten())  # Добавляем слой Flatten для преобразования logits\n",
        "model.add(Dense(units=num_classes, activation='sigmoid'))\n",
        "\n",
        "# Компиляция модели\n",
        "optimizer = Adam(learning_rate=1e-5)\n",
        "model.compile(optimizer=optimizer, loss='binary_crossentropy', metrics=['accuracy'])\n",
        "\n",
        "# Обучение модели\n",
        "history = model.fit(x_train, y_train, epochs=50, batch_size=32, validation_split=0.1)"
      ],
      "metadata": {
        "colab": {
          "base_uri": "https://localhost:8080/"
        },
        "id": "-n6vwD1MV6Vx",
        "outputId": "f500c47d-d61d-43b3-cddb-e1f73f576d19"
      },
      "execution_count": 252,
      "outputs": [
        {
          "output_type": "stream",
          "name": "stdout",
          "text": [
            "Epoch 1/50\n",
            "13/13 [==============================] - 10s 507ms/step - loss: 0.6298 - accuracy: 0.0620 - val_loss: 0.6811 - val_accuracy: 0.0233\n",
            "Epoch 2/50\n",
            "13/13 [==============================] - 4s 314ms/step - loss: 0.4740 - accuracy: 0.2817 - val_loss: 0.6708 - val_accuracy: 0.0930\n",
            "Epoch 3/50\n",
            "13/13 [==============================] - 4s 306ms/step - loss: 0.3658 - accuracy: 0.4522 - val_loss: 0.6598 - val_accuracy: 0.3488\n",
            "Epoch 4/50\n",
            "13/13 [==============================] - 6s 446ms/step - loss: 0.2910 - accuracy: 0.5633 - val_loss: 0.6486 - val_accuracy: 0.6047\n",
            "Epoch 5/50\n",
            "13/13 [==============================] - 4s 317ms/step - loss: 0.2494 - accuracy: 0.6615 - val_loss: 0.6377 - val_accuracy: 0.6977\n",
            "Epoch 6/50\n",
            "13/13 [==============================] - 4s 307ms/step - loss: 0.2241 - accuracy: 0.7158 - val_loss: 0.6268 - val_accuracy: 0.7209\n",
            "Epoch 7/50\n",
            "13/13 [==============================] - 6s 449ms/step - loss: 0.2073 - accuracy: 0.7313 - val_loss: 0.6170 - val_accuracy: 0.7209\n",
            "Epoch 8/50\n",
            "13/13 [==============================] - 4s 317ms/step - loss: 0.1982 - accuracy: 0.7364 - val_loss: 0.6073 - val_accuracy: 0.7209\n",
            "Epoch 9/50\n",
            "13/13 [==============================] - 4s 318ms/step - loss: 0.1913 - accuracy: 0.7364 - val_loss: 0.5988 - val_accuracy: 0.7209\n",
            "Epoch 10/50\n",
            "13/13 [==============================] - 6s 448ms/step - loss: 0.1866 - accuracy: 0.7416 - val_loss: 0.5894 - val_accuracy: 0.7209\n",
            "Epoch 11/50\n",
            "13/13 [==============================] - 4s 315ms/step - loss: 0.1823 - accuracy: 0.7468 - val_loss: 0.5798 - val_accuracy: 0.7209\n",
            "Epoch 12/50\n",
            "13/13 [==============================] - 4s 312ms/step - loss: 0.1817 - accuracy: 0.7261 - val_loss: 0.5702 - val_accuracy: 0.7209\n",
            "Epoch 13/50\n",
            "13/13 [==============================] - 6s 438ms/step - loss: 0.1786 - accuracy: 0.7416 - val_loss: 0.5612 - val_accuracy: 0.7209\n",
            "Epoch 14/50\n",
            "13/13 [==============================] - 4s 312ms/step - loss: 0.1765 - accuracy: 0.7416 - val_loss: 0.5518 - val_accuracy: 0.7209\n",
            "Epoch 15/50\n",
            "13/13 [==============================] - 4s 315ms/step - loss: 0.1765 - accuracy: 0.7416 - val_loss: 0.5422 - val_accuracy: 0.7209\n",
            "Epoch 16/50\n",
            "13/13 [==============================] - 5s 415ms/step - loss: 0.1729 - accuracy: 0.7390 - val_loss: 0.5324 - val_accuracy: 0.7209\n",
            "Epoch 17/50\n",
            "13/13 [==============================] - 4s 328ms/step - loss: 0.1722 - accuracy: 0.7442 - val_loss: 0.5222 - val_accuracy: 0.7209\n",
            "Epoch 18/50\n",
            "13/13 [==============================] - 4s 316ms/step - loss: 0.1704 - accuracy: 0.7390 - val_loss: 0.5116 - val_accuracy: 0.7209\n",
            "Epoch 19/50\n",
            "13/13 [==============================] - 5s 391ms/step - loss: 0.1694 - accuracy: 0.7390 - val_loss: 0.5009 - val_accuracy: 0.7209\n",
            "Epoch 20/50\n",
            "13/13 [==============================] - 5s 341ms/step - loss: 0.1679 - accuracy: 0.7416 - val_loss: 0.4894 - val_accuracy: 0.7209\n",
            "Epoch 21/50\n",
            "13/13 [==============================] - 4s 312ms/step - loss: 0.1668 - accuracy: 0.7364 - val_loss: 0.4789 - val_accuracy: 0.7209\n",
            "Epoch 22/50\n",
            "13/13 [==============================] - 5s 360ms/step - loss: 0.1675 - accuracy: 0.7416 - val_loss: 0.4670 - val_accuracy: 0.7209\n",
            "Epoch 23/50\n",
            "13/13 [==============================] - 5s 378ms/step - loss: 0.1642 - accuracy: 0.7364 - val_loss: 0.4543 - val_accuracy: 0.7209\n",
            "Epoch 24/50\n",
            "13/13 [==============================] - 4s 315ms/step - loss: 0.1656 - accuracy: 0.7313 - val_loss: 0.4424 - val_accuracy: 0.7209\n",
            "Epoch 25/50\n",
            "13/13 [==============================] - 4s 337ms/step - loss: 0.1623 - accuracy: 0.7313 - val_loss: 0.4304 - val_accuracy: 0.7209\n",
            "Epoch 26/50\n",
            "13/13 [==============================] - 5s 401ms/step - loss: 0.1610 - accuracy: 0.7313 - val_loss: 0.4157 - val_accuracy: 0.7209\n",
            "Epoch 27/50\n",
            "13/13 [==============================] - 4s 313ms/step - loss: 0.1611 - accuracy: 0.7390 - val_loss: 0.4044 - val_accuracy: 0.7209\n",
            "Epoch 28/50\n",
            "13/13 [==============================] - 4s 313ms/step - loss: 0.1605 - accuracy: 0.7313 - val_loss: 0.3916 - val_accuracy: 0.7209\n",
            "Epoch 29/50\n",
            "13/13 [==============================] - 6s 430ms/step - loss: 0.1576 - accuracy: 0.7313 - val_loss: 0.3776 - val_accuracy: 0.7209\n",
            "Epoch 30/50\n",
            "13/13 [==============================] - 4s 310ms/step - loss: 0.1577 - accuracy: 0.7339 - val_loss: 0.3642 - val_accuracy: 0.7209\n",
            "Epoch 31/50\n",
            "13/13 [==============================] - 4s 310ms/step - loss: 0.1568 - accuracy: 0.7339 - val_loss: 0.3503 - val_accuracy: 0.7209\n",
            "Epoch 32/50\n",
            "13/13 [==============================] - 7s 536ms/step - loss: 0.1570 - accuracy: 0.7364 - val_loss: 0.3380 - val_accuracy: 0.7209\n",
            "Epoch 33/50\n",
            "13/13 [==============================] - 5s 368ms/step - loss: 0.1558 - accuracy: 0.7339 - val_loss: 0.3255 - val_accuracy: 0.7209\n",
            "Epoch 34/50\n",
            "13/13 [==============================] - 4s 319ms/step - loss: 0.1543 - accuracy: 0.7364 - val_loss: 0.3131 - val_accuracy: 0.7209\n",
            "Epoch 35/50\n",
            "13/13 [==============================] - 5s 415ms/step - loss: 0.1539 - accuracy: 0.7416 - val_loss: 0.3021 - val_accuracy: 0.7209\n",
            "Epoch 36/50\n",
            "13/13 [==============================] - 4s 316ms/step - loss: 0.1515 - accuracy: 0.7416 - val_loss: 0.2920 - val_accuracy: 0.7209\n",
            "Epoch 37/50\n",
            "13/13 [==============================] - 4s 315ms/step - loss: 0.1505 - accuracy: 0.7390 - val_loss: 0.2827 - val_accuracy: 0.7209\n",
            "Epoch 38/50\n",
            "13/13 [==============================] - 5s 424ms/step - loss: 0.1510 - accuracy: 0.7364 - val_loss: 0.2728 - val_accuracy: 0.7209\n",
            "Epoch 39/50\n",
            "13/13 [==============================] - 4s 332ms/step - loss: 0.1474 - accuracy: 0.7390 - val_loss: 0.2622 - val_accuracy: 0.7209\n",
            "Epoch 40/50\n",
            "13/13 [==============================] - 4s 332ms/step - loss: 0.1475 - accuracy: 0.7364 - val_loss: 0.2531 - val_accuracy: 0.7209\n",
            "Epoch 41/50\n",
            "13/13 [==============================] - 5s 426ms/step - loss: 0.1478 - accuracy: 0.7468 - val_loss: 0.2441 - val_accuracy: 0.7209\n",
            "Epoch 42/50\n",
            "13/13 [==============================] - 5s 333ms/step - loss: 0.1467 - accuracy: 0.7442 - val_loss: 0.2372 - val_accuracy: 0.7209\n",
            "Epoch 43/50\n",
            "13/13 [==============================] - 4s 316ms/step - loss: 0.1456 - accuracy: 0.7416 - val_loss: 0.2312 - val_accuracy: 0.7209\n",
            "Epoch 44/50\n",
            "13/13 [==============================] - 5s 404ms/step - loss: 0.1445 - accuracy: 0.7364 - val_loss: 0.2244 - val_accuracy: 0.7209\n",
            "Epoch 45/50\n",
            "13/13 [==============================] - 5s 342ms/step - loss: 0.1438 - accuracy: 0.7416 - val_loss: 0.2188 - val_accuracy: 0.7209\n",
            "Epoch 46/50\n",
            "13/13 [==============================] - 4s 315ms/step - loss: 0.1427 - accuracy: 0.7313 - val_loss: 0.2130 - val_accuracy: 0.7209\n",
            "Epoch 47/50\n",
            "13/13 [==============================] - 5s 383ms/step - loss: 0.1428 - accuracy: 0.7442 - val_loss: 0.2086 - val_accuracy: 0.7209\n",
            "Epoch 48/50\n",
            "13/13 [==============================] - 5s 364ms/step - loss: 0.1425 - accuracy: 0.7364 - val_loss: 0.2046 - val_accuracy: 0.7209\n",
            "Epoch 49/50\n",
            "13/13 [==============================] - 4s 317ms/step - loss: 0.1398 - accuracy: 0.7416 - val_loss: 0.2012 - val_accuracy: 0.7209\n",
            "Epoch 50/50\n",
            "13/13 [==============================] - 5s 365ms/step - loss: 0.1385 - accuracy: 0.7339 - val_loss: 0.1989 - val_accuracy: 0.7209\n"
          ]
        }
      ]
    },
    {
      "cell_type": "code",
      "source": [
        "model.save(\"/content/drive/MyDrive/Colab Notebooks/хакатон билеты\")"
      ],
      "metadata": {
        "colab": {
          "base_uri": "https://localhost:8080/"
        },
        "id": "Z7ofBJ7CleaC",
        "outputId": "213936a2-ac5a-4557-d85b-7a11ab2ecc7b"
      },
      "execution_count": 253,
      "outputs": [
        {
          "output_type": "stream",
          "name": "stderr",
          "text": [
            "WARNING:absl:Found untraced functions such as _update_step_xla, lstm_cell_12_layer_call_fn, lstm_cell_12_layer_call_and_return_conditional_losses while saving (showing 3 of 3). These functions will not be directly callable after loading.\n"
          ]
        }
      ]
    },
    {
      "cell_type": "code",
      "source": [
        "loss, accuracy = model.evaluate(x_test, y_test)\n",
        "print(\"Точность модели на тестовой выборке:\", accuracy*100, \"%\")"
      ],
      "metadata": {
        "colab": {
          "base_uri": "https://localhost:8080/"
        },
        "id": "pjdP7Uegg_je",
        "outputId": "ec9d162b-af6d-46ea-e5d1-c502e2c6d733"
      },
      "execution_count": 254,
      "outputs": [
        {
          "output_type": "stream",
          "name": "stdout",
          "text": [
            "1/1 [==============================] - 0s 149ms/step - loss: 0.2179 - accuracy: 0.7500\n",
            "Точность модели на тестовой выборке: 75.0 %\n"
          ]
        }
      ]
    },
    {
      "cell_type": "code",
      "source": [
        "# График точности\n",
        "plt.plot(history.history['accuracy'])\n",
        "plt.plot(history.history['val_accuracy'])\n",
        "plt.title('Model Accuracy')\n",
        "plt.xlabel('Epoch')\n",
        "plt.ylabel('Accuracy')\n",
        "plt.legend(['Train', 'Validation'], loc='upper left')\n",
        "plt.show()"
      ],
      "metadata": {
        "colab": {
          "base_uri": "https://localhost:8080/",
          "height": 472
        },
        "id": "3uLMjjzGC4vU",
        "outputId": "e9811e0e-dc15-4ab2-c9dd-2e22dc4c6925"
      },
      "execution_count": 255,
      "outputs": [
        {
          "output_type": "display_data",
          "data": {
            "text/plain": [
              "<Figure size 640x480 with 1 Axes>"
            ],
            "image/png": "[encoded data removed]"
          },
          "metadata": {}
        }
      ]
    },
    {
      "cell_type": "code",
      "source": [
        "# Вывод точности модели в процентах\n",
        "accuracy = history.history['accuracy']\n",
        "val_accuracy = history.history['val_accuracy']\n",
        "\n",
        "accuracy_percent = np.mean(accuracy) * 100\n",
        "val_accuracy_percent = np.mean(val_accuracy) * 100\n",
        "\n",
        "print('Средняя точность (accuracy):', accuracy_percent, \"%\")\n",
        "print('Средняя точность на валидации (validation accuracy):', val_accuracy_percent, \"%\")"
      ],
      "metadata": {
        "colab": {
          "base_uri": "https://localhost:8080/"
        },
        "id": "uhf4itffb81W",
        "outputId": "782407c4-90e0-4449-b035-34016a302a1d"
      },
      "execution_count": 256,
      "outputs": [
        {
          "output_type": "stream",
          "name": "stdout",
          "text": [
            "Средняя точность (accuracy): 70.39793223142624 %\n",
            "Средняя точность на валидации (validation accuracy): 68.41860330849886 %\n"
          ]
        }
      ]
    },
    {
      "cell_type": "code",
      "source": [
        "# Подготовка случайного текста для предсказания\n",
        "random_text = \"Какой то текст непонятный который вы хотите проверить на классификацию 12345\"\n",
        "\n",
        "# Применение функции для очистки и лемматизации текста\n",
        "cleaned_text = clean_and_lemmatize_text(random_text)\n",
        "\n",
        "# Токенизация и преобразование в индексы\n",
        "random_text_tokens = tokenizer.texts_to_sequences([cleaned_text])\n",
        "random_text_indexes = pad_sequences(random_text_tokens, maxlen=max_sequence_length)\n",
        "\n",
        "# Предсказание с помощью модели\n",
        "predictions = model.predict(random_text_indexes)\n",
        "\n",
        "#Вывод необработанного текста\n",
        "print(\"Как выглядит первоначальный текст:\", random_text)\n",
        "\n",
        "# Вывод обработанного текста\n",
        "print(\"Как выглядит текст после очистки:\", cleaned_text)\n",
        "\n",
        "# Интерпретация результатов\n",
        "predicted_labels = [params[i] for i, prediction in enumerate(predictions[0]) if prediction >= 0.5]\n",
        "print(\"Как выглядит предсказание модели:\", predicted_labels)"
      ],
      "metadata": {
        "colab": {
          "base_uri": "https://localhost:8080/"
        },
        "id": "R1LUKVFSIAun",
        "outputId": "a3b0ad63-d5d1-4dab-d8ee-cbf00af6eeb0"
      },
      "execution_count": 261,
      "outputs": [
        {
          "output_type": "stream",
          "name": "stdout",
          "text": [
            "1/1 [==============================] - 0s 33ms/step\n",
            "Как выглядит первоначальный текст: Какой то текст непонятный который вы хотите проверить на классификацию 12345\n",
            "Как выглядит текст после очистки: текст непонятный который хотите проверить классификацию\n",
            "Как выглядит предсказание модели: ['исследовательское']\n"
          ]
        }
      ]
    },
    {
      "cell_type": "markdown",
      "source": [
        "________________"
      ],
      "metadata": {
        "id": "AtbUqoCMlZpq"
      }
    },
    {
      "cell_type": "markdown",
      "source": [
        "# **Интеграция**"
      ],
      "metadata": {
        "id": "nU2MO5O1z1Gb"
      }
    },
    {
      "cell_type": "markdown",
      "source": [
        "Этот скрипт загружает модель из файла \"my_model\" и определяет функцию \"classify_text\", которая классифицирует новые данные."
      ],
      "metadata": {
        "id": "GOyHVXWw0FG7"
      }
    },
    {
      "cell_type": "code",
      "source": [
        "import sys\n",
        "print(sys.version)"
      ],
      "metadata": {
        "colab": {
          "base_uri": "https://localhost:8080/"
        },
        "id": "XtCaCT_x6Fd3",
        "outputId": "95e88e40-962c-4b83-a9c4-94413d1e45f8"
      },
      "execution_count": null,
      "outputs": [
        {
          "output_type": "stream",
          "name": "stdout",
          "text": [
            "3.10.11 (main, Apr  5 2023, 14:15:10) [GCC 9.4.0]\n"
          ]
        }
      ]
    },
    {
      "cell_type": "code",
      "source": [
        "print(params)"
      ],
      "metadata": {
        "colab": {
          "base_uri": "https://localhost:8080/"
        },
        "id": "vfxf4p2B2C7-",
        "outputId": "37b19d82-1d70-41de-bcc0-9f1b5ad0fc32"
      },
      "execution_count": null,
      "outputs": [
        {
          "output_type": "stream",
          "name": "stdout",
          "text": [
            "['Духовное', 'Местное_пиво', 'Релакс', 'театр', 'Приключения_и_экстрим', 'Пляж', 'Ночные_клубы', 'В_поисках_чудес', 'Исследовательское', 'Романтическое', 'Исследовательское,', 'Музеи', 'Люкс', 'Экстремальное', 'Глухомань', 'Вина', 'Экологичное_потребление', 'Искусство_и_', 'Быстрый_темп', 'Шоппинг', 'Коренные_народы_и_традиции', 'Спортивные_события', 'Увидеть_достопримечательности', 'Местная_культура', 'Сафари', 'История', 'Наука']\n"
          ]
        }
      ]
    },
    {
      "cell_type": "code",
      "source": [
        "#model = tf.keras.models.load_model('/content/drive/MyDrive/Colab Notebooks/хакатон билеты')\n",
        "\n",
        "#import tensorflow as tf\n",
        "#from tensorflow.keras.preprocessing.sequence import pad_sequences\n",
        "#from tensorflow.keras.preprocessing.text import Tokenizer\n",
        "\n",
        "#tokenizer = Tokenizer(num_words=10000, filters='\\[[^\\]]+\\]|\\w|\\d\\!\"#$%&()*+,-–—./:;<=>?@[\\]^_`{|}~\\t\\n\\xa0\\_x000D_', lower=True, split=' ', oov_token='unknown', char_level=False)\n",
        "\n",
        "#max_sequence_length = 194\n",
        "\n",
        "#params = ['Духовное', 'Местное_пиво', 'Релакс', 'театр', 'Приключения_и_экстрим', 'Пляж', 'Ночные_клубы', 'В_поисках_чудес', 'Исследовательское', 'Романтическое', 'Исследовательское,', 'Музеи', 'Люкс', 'Экстремальное', 'Глухомань', 'Вина', 'Экологичное_потребление', 'Искусство_и_', 'Быстрый_темп', 'Шоппинг', 'Коренные_народы_и_традиции', 'Спортивные_события', 'Увидеть_достопримечательности', 'Местная_культура', 'Сафари', 'История', 'Наука']\n",
        "#\n",
        "#def classify_text(text):\n",
        "#    text_tokens = tokenizer.texts_to_sequences([text])\n",
        "#    text_indexes = pad_sequences(text_tokens, maxlen=max_sequence_length)\n",
        "#    \n",
        "#    predictions = model.predict(text_indexes)\n",
        "#    predicted_labels = [params[i] for i, prediction in enumerate(predictions[0]) if prediction >= 0.5]\n",
        "#    \n",
        "#    return predicted_labels"
      ],
      "metadata": {
        "id": "zisnhaYOz3sJ"
      },
      "execution_count": null,
      "outputs": []
    },
    {
      "cell_type": "code",
      "source": [
        "#import asyncio\n",
        "#import tensorflow as tf\n",
        "#from tensorflow.keras.models import load_model\n",
        "#from tensorflow.keras.preprocessing.sequence import pad_sequences\n",
        "#from tensorflow.keras.preprocessing.text import Tokenizer\n",
        "\n",
        "#tf.compat.v1.disable_eager_execution()\n",
        "#tf.compat.v1.logging.set_verbosity(tf.compat.v1.logging.ERROR)\n",
        "\n",
        "#model = load_model('model')\n",
        "\n",
        "#tokenizer = Tokenizer(num_words=10000, filters='\\[[^\\]]+\\]|\\w|\\d\\!\"#$%&()*+,-–—./:;<=>?@[\\]^_`{|}~\\t\\n\\xa0\\_x000D_', lower=True, split=' ', oov_token='unknown', char_level=False)\n",
        "\n",
        "#max_sequence_length = 194\n",
        "\n",
        "#params = ['Духовное', 'Местное_пиво', 'Релакс', 'театр', 'Приключения_и_экстрим', 'Пляж', 'Ночные_клубы', 'В_поисках_чудес', 'Исследовательское', 'Романтическое', 'Исследовательское,', 'Музеи', 'Люкс', 'Экстремальное', 'Глухомань', 'Вина', 'Экологичное_потребление', 'Искусство_и_', 'Быстрый_темп', 'Шоппинг', 'Коренные_народы_и_традиции', 'Спортивные_события', 'Увидеть_достопримечательности', 'Местная_культура', 'Сафари', 'История', 'Наука']\n",
        "\n",
        "#async def classify_text(text):\n",
        "#    tokenizer.fit_on_texts([text])\n",
        "#    text_tokens = tokenizer.texts_to_sequences([text])\n",
        "#    text_indexes = pad_sequences(text_tokens, maxlen=max_sequence_length)\n",
        "    \n",
        "#    predictions = model.predict(text_indexes)\n",
        "#    predicted_labels = [params[i] for i, prediction in enumerate(predictions[0]) if prediction >= 0.5]\n",
        "    \n",
        "#    return predicted_labels\n",
        "\n",
        "\n",
        "#if __name__ == \"__main__\":\n",
        "    #predicted_labels = asyncio.run(classify_text(\"Приготовьтесь увидеть город глазами его тогдашних жителей, от столичных купцов до советской интеллигенции. Мы прогуляемся по укромным дворам, пройдем по парадным лестницам, наведаемся в классические апартаменты старинного доходного дома. Перед вами во всей красе предстанет сочетание несочетаемого: старинной архитектуры доходных домов и советского быта.\"))\n",
        "    #assert set(predicted_labels) == {'Глухомань', 'Увидеть_достопримечательности'}"
      ],
      "metadata": {
        "id": "Ikf8Fs71dKEZ"
      },
      "execution_count": null,
      "outputs": []
    },
    {
      "cell_type": "code",
      "source": [
        "import asyncio\n",
        "import tensorflow as tf\n",
        "from tensorflow.keras.models import load_model\n",
        "from tensorflow.keras.preprocessing.sequence import pad_sequences\n",
        "from tensorflow.keras.preprocessing.text import Tokenizer\n",
        "import re\n",
        "import nltk\n",
        "nltk.download('stopwords')\n",
        "nltk.download('punkt')\n",
        "nltk.download('wordnet')\n",
        "\n",
        "tf.compat.v1.disable_eager_execution()\n",
        "tf.compat.v1.logging.set_verbosity(tf.compat.v1.logging.ERROR)\n",
        "\n",
        "model = tf.keras.models.load_model('/content/drive/MyDrive/Colab Notebooks/хакатон билеты')\n",
        "\n",
        "tokenizer = Tokenizer(num_words=10000, filters='\\[[^\\]]+\\]|\\w|\\d\\!\"#$%&()*+,-–—./:;<=>?@[\\]^_`{|}~\\t\\n\\xa0\\_x000D_', lower=True, split=' ', oov_token='unknown', char_level=False)\n",
        "\n",
        "max_sequence_length = 194\n",
        "\n",
        "params = ['Духовное', 'Местное_пиво', 'Релакс', 'театр', 'Приключения_и_экстрим', 'Пляж', 'Ночные_клубы', 'В_поисках_чудес', 'Исследовательское', 'Романтическое', 'Исследовательское,', 'Музеи', 'Люкс', 'Экстремальное', 'Глухомань', 'Вина', 'Экологичное_потребление', 'Искусство_и_', 'Быстрый_темп', 'Шоппинг', 'Коренные_народы_и_традиции', 'Спортивные_события', 'Увидеть_достопримечательности', 'Местная_культура', 'Сафари', 'История', 'Наука']\n",
        "\n",
        "# Загрузка стоп-слов и инициализация лемматизатора\n",
        "stop_words = set(stopwords.words('russian'))\n",
        "lemmatizer = WordNetLemmatizer()\n",
        "\n",
        "async def classify_text(text):\n",
        "    cleaned_text = clean_and_lemmatize_text(text)\n",
        "    text_tokens = tokenizer.texts_to_sequences([cleaned_text])\n",
        "    text_indexes = pad_sequences(text_tokens, maxlen=max_sequence_length)\n",
        "    \n",
        "    predictions = model.predict(text_indexes)\n",
        "    predicted_labels = [params[i] for i, prediction in enumerate(predictions[0]) if prediction >= 0.5]\n",
        "    \n",
        "    return predicted_labels\n",
        "\n",
        "\n",
        "def clean_and_lemmatize_text(text):\n",
        "    # Удаление лишних символов и приведение к нижнему регистру\n",
        "    text = re.sub(r'<.*?>', '', text)\n",
        "    text = re.sub(r'[^а-яА-Я]', ' ', text.lower())\n",
        "    \n",
        "    # Токенизация текста на отдельные слова\n",
        "    words = text.split()\n",
        "    \n",
        "    # Удаление стоп-слов и лемматизация слов\n",
        "    words = [lemmatizer.lemmatize(word) for word in words if word not in stop_words]\n",
        "    \n",
        "    # Соединение слов обратно в текст\n",
        "    cleaned_text = ' '.join(words)\n",
        "    \n",
        "    return cleaned_text\n",
        "\n",
        "\n",
        "if __name__ == \"__main__\":\n",
        "    loop = asyncio.get_event_loop()\n",
        "    predicted_labels = loop.run_until_complete(classify_text(\"Какой-то текст непонятный, который вы хотите проверить на классификацию 12345\"))\n",
        "    assert set(predicted_labels) == {'Глухомань', 'Увидеть_достопримечательности'}"
      ],
      "metadata": {
        "id": "wV3fg3TLRgaM"
      },
      "execution_count": null,
      "outputs": []
    },
    {
      "cell_type": "markdown",
      "source": [
        "# **Резюме**"
      ],
      "metadata": {
        "id": "N_1BGeE_iRG3"
      }
    },
    {
      "cell_type": "markdown",
      "source": [
        "Был использован датасет предоставленный заказчиком с 457 текстами описывающими экскурсии. Ключевыми параметрами, которые модель должна предсказывать  были выбраны указанные в анкете данные, которые пользователь отмечает, а именно: Увидеть_достопримечательности\tПляж\tМестная_культура\tМестная_культура\tЛюкс\tИстория\tВина\tПриключения_и_экстрим\tСпа\tСафари\tШоппинг\tЭкологичное_потребление\tКоренные_народы_и_традиции\tМестное_пиво\tСпортивные_события\tИскусство_и_ театр\tМузеи\tНочные_клубы\tСпорт_и_ фитнесс\tРомантическое\tВ_поисках_чудес\tГлухомань\tРелакс\tБыстрый_темп\tПремиальное\tДуховное\tИсследовательское\tЭкстремальное.\n",
        "Параметры были проставлены вручную в таблице приближенно к контексту экскурсий, что вносит свою долю ошибки. Ниже представлен пример обработки данных\n"
      ],
      "metadata": {
        "id": "OpNYUESbiTY4"
      }
    },
    {
      "cell_type": "markdown",
      "source": [
        "![пример2.png](data:image/png;base64,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)"
      ],
      "metadata": {
        "id": "IJS6vO3Sji7Q"
      }
    },
    {
      "cell_type": "markdown",
      "source": [
        "![пример1.png](data:image/png;base64,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)"
      ],
      "metadata": {
        "id": "Dj0t7kqmjoyq"
      }
    },
    {
      "cell_type": "markdown",
      "source": [
        "# **ВЫВОД**"
      ],
      "metadata": {
        "id": "Q7U93nUjiPFY"
      }
    },
    {
      "cell_type": "markdown",
      "source": [
        "Таким образом посля ряда экспериментов с подбором гиперпараметров с учетом малой величины датасета процент точности невысок. Предлагаю увеличить кол-во примеров (текстов) для дальнейшего обучения модели это может значительно увеличить точность."
      ],
      "metadata": {
        "id": "g9FuRB0GdT11"
      }
    }
  ]
}